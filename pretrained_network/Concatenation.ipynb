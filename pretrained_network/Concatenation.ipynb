{
 "cells": [
  {
   "cell_type": "code",
   "execution_count": 132,
   "metadata": {},
   "outputs": [],
   "source": [
    "from os.path import join\n",
    "import keras\n",
    "from keras.applications import Xception, VGG16, VGG19, ResNet50, InceptionV3\n",
    "from keras.layers import GlobalAveragePooling2D, Dense, Dropout, Input\n",
    "from keras.models import Model, load_model\n",
    "from keras.utils.np_utils import to_categorical\n",
    "\n",
    "import pandas as pd\n",
    "import csv\n",
    "import os\n",
    "import numpy as np\n",
    "import json\n",
    "import pickle\n",
    "from matplotlib import pyplot as plt\n",
    "import sys\n",
    "sys.path.append(\"../data_preparation/\")\n",
    "\n",
    "from batch_generator import BatchGenerator, BatchSequence\n",
    "\n",
    "from sklearn.metrics import recall_score, precision_score, f1_score"
   ]
  },
  {
   "cell_type": "code",
   "execution_count": 277,
   "metadata": {},
   "outputs": [],
   "source": [
    "# -*- coding: utf-8 -*-\n",
    "import tensorflow as tf"
   ]
  },
  {
   "cell_type": "markdown",
   "metadata": {},
   "source": [
    "## Model Initializations"
   ]
  },
  {
   "cell_type": "markdown",
   "metadata": {},
   "source": [
    "### VGG16"
   ]
  },
  {
   "cell_type": "code",
   "execution_count": 253,
   "metadata": {},
   "outputs": [],
   "source": [
    "model_vgg16 = load_model('Pretrained-networks/vgg16/vgg16_3000.h5')"
   ]
  },
  {
   "cell_type": "raw",
   "metadata": {},
   "source": [
    "model_vgg16 = VGG16(weights='imagenet', include_top=False)#, input_shape=(290,290,3))"
   ]
  },
  {
   "cell_type": "code",
   "execution_count": 280,
   "metadata": {},
   "outputs": [],
   "source": [
    "for i, layer in enumerate(model_vgg16.layers):\n",
    "    model_vgg16.layers[i].trainable = False\n",
    "    model_vgg16.layers[i].name = '{}_{}'.format(layer.name, 'vgg16')"
   ]
  },
  {
   "cell_type": "code",
   "execution_count": 281,
   "metadata": {},
   "outputs": [],
   "source": [
    "vgg16_out = model_vgg16.output"
   ]
  },
  {
   "cell_type": "raw",
   "metadata": {},
   "source": [
    "vgg16_out = GlobalAveragePooling2D()(vgg16_out)"
   ]
  },
  {
   "cell_type": "raw",
   "metadata": {},
   "source": [
    "vgg16_out = Dense(1024, activation='relu')(vgg16_out)"
   ]
  },
  {
   "cell_type": "markdown",
   "metadata": {},
   "source": [
    "### VGG19"
   ]
  },
  {
   "cell_type": "code",
   "execution_count": 256,
   "metadata": {},
   "outputs": [],
   "source": [
    "model_vgg19 = load_model('Pretrained-networks/vgg19/VGG19.h5')"
   ]
  },
  {
   "cell_type": "raw",
   "metadata": {},
   "source": [
    "model_vgg19 = VGG19(weights='imagenet', include_top=False)#, input_shape=(290,290,3))"
   ]
  },
  {
   "cell_type": "code",
   "execution_count": 282,
   "metadata": {},
   "outputs": [],
   "source": [
    "for i, layer in enumerate(model_vgg19.layers):\n",
    "    model_vgg19.layers[i].trainable = False\n",
    "    model_vgg19.layers[i].name = '{}_{}'.format(layer.name, 'vgg19')"
   ]
  },
  {
   "cell_type": "code",
   "execution_count": 283,
   "metadata": {},
   "outputs": [],
   "source": [
    "vgg19_out = model_vgg19.output"
   ]
  },
  {
   "cell_type": "raw",
   "metadata": {},
   "source": [
    "vgg19_out = GlobalAveragePooling2D()(vgg19_out)"
   ]
  },
  {
   "cell_type": "raw",
   "metadata": {},
   "source": [
    "vgg19_out = Dense(1024, activation='relu')(vgg19_out)"
   ]
  },
  {
   "cell_type": "markdown",
   "metadata": {},
   "source": [
    "### Xception"
   ]
  },
  {
   "cell_type": "code",
   "execution_count": 259,
   "metadata": {},
   "outputs": [],
   "source": [
    "model_xception = load_model('Pretrained-networks/Xception/xception.h5')"
   ]
  },
  {
   "cell_type": "raw",
   "metadata": {},
   "source": [
    "model_xception = Xception(weights='imagenet', include_top=False)#, input_shape=(290,290,3))"
   ]
  },
  {
   "cell_type": "code",
   "execution_count": 284,
   "metadata": {},
   "outputs": [],
   "source": [
    "for i, layer in enumerate(model_xception.layers):\n",
    "    model_xception.layers[i].trainable = False\n",
    "    model_xception.layers[i].name = '{}_{}'.format(layer.name, 'xception')"
   ]
  },
  {
   "cell_type": "code",
   "execution_count": 285,
   "metadata": {},
   "outputs": [],
   "source": [
    "xception_out = model_xception.output"
   ]
  },
  {
   "cell_type": "raw",
   "metadata": {},
   "source": [
    "xception_out = GlobalAveragePooling2D()(xception_out)"
   ]
  },
  {
   "cell_type": "raw",
   "metadata": {},
   "source": [
    "xception_out = Dense(1024, activation='relu')(xception_out)"
   ]
  },
  {
   "cell_type": "markdown",
   "metadata": {},
   "source": [
    "### Inception"
   ]
  },
  {
   "cell_type": "code",
   "execution_count": 262,
   "metadata": {},
   "outputs": [],
   "source": [
    "model_inception = load_model('Pretrained-networks/inception/inceptionV3.h5')"
   ]
  },
  {
   "cell_type": "raw",
   "metadata": {},
   "source": [
    "model_inception = Inception(weights='imagenet', include_top=False)#, input_shape=(290,290,3))"
   ]
  },
  {
   "cell_type": "code",
   "execution_count": 286,
   "metadata": {},
   "outputs": [],
   "source": [
    "for i, layer in enumerate(model_inception.layers):\n",
    "    model_inception.layers[i].trainable = False\n",
    "    model_inception.layers[i].name = '{}_{}'.format(layer.name, 'inception')"
   ]
  },
  {
   "cell_type": "code",
   "execution_count": 287,
   "metadata": {},
   "outputs": [],
   "source": [
    "inception_out = model_inception.output"
   ]
  },
  {
   "cell_type": "raw",
   "metadata": {},
   "source": [
    "inception_out = GlobalAveragePooling2D()(inception_out)"
   ]
  },
  {
   "cell_type": "raw",
   "metadata": {},
   "source": [
    "inception_out = Dense(1024, activation='relu')(inception_out)"
   ]
  },
  {
   "cell_type": "markdown",
   "metadata": {},
   "source": [
    "### ResNet50"
   ]
  },
  {
   "cell_type": "code",
   "execution_count": 265,
   "metadata": {},
   "outputs": [],
   "source": [
    "model_resnet50 = load_model('Pretrained-networks/ResNet50/ResNet50.h5')"
   ]
  },
  {
   "cell_type": "raw",
   "metadata": {},
   "source": [
    "model_resnet50 = ResNet50(weights='imagenet', include_top=False)#, input_shape=(290,290,3))"
   ]
  },
  {
   "cell_type": "code",
   "execution_count": 288,
   "metadata": {},
   "outputs": [],
   "source": [
    "for i, layer in enumerate(model_resnet50.layers):\n",
    "    model_resnet50.layers[i].trainable = False\n",
    "    model_resnet50.layers[i].name = '{}_{}'.format(layer.name, 'resnet50')"
   ]
  },
  {
   "cell_type": "code",
   "execution_count": 289,
   "metadata": {},
   "outputs": [],
   "source": [
    "resnet50_out = model_resnet50.output"
   ]
  },
  {
   "cell_type": "code",
   "execution_count": 268,
   "metadata": {},
   "outputs": [
    {
     "name": "stdout",
     "output_type": "stream",
     "text": [
      "_________________________________________________________________\n",
      "Layer (type)                 Output Shape              Param #   \n",
      "=================================================================\n",
      "input_1_vgg16 (InputLayer)   (None, 290, 290, 3)       0         \n",
      "_________________________________________________________________\n",
      "block1_conv1_vgg16 (Conv2D)  (None, 290, 290, 64)      1792      \n",
      "_________________________________________________________________\n",
      "block1_conv2_vgg16 (Conv2D)  (None, 290, 290, 64)      36928     \n",
      "_________________________________________________________________\n",
      "block1_pool_vgg16 (MaxPoolin (None, 145, 145, 64)      0         \n",
      "_________________________________________________________________\n",
      "block2_conv1_vgg16 (Conv2D)  (None, 145, 145, 128)     73856     \n",
      "_________________________________________________________________\n",
      "block2_conv2_vgg16 (Conv2D)  (None, 145, 145, 128)     147584    \n",
      "_________________________________________________________________\n",
      "block2_pool_vgg16 (MaxPoolin (None, 72, 72, 128)       0         \n",
      "_________________________________________________________________\n",
      "block3_conv1_vgg16 (Conv2D)  (None, 72, 72, 256)       295168    \n",
      "_________________________________________________________________\n",
      "block3_conv2_vgg16 (Conv2D)  (None, 72, 72, 256)       590080    \n",
      "_________________________________________________________________\n",
      "block3_conv3_vgg16 (Conv2D)  (None, 72, 72, 256)       590080    \n",
      "_________________________________________________________________\n",
      "block3_pool_vgg16 (MaxPoolin (None, 36, 36, 256)       0         \n",
      "_________________________________________________________________\n",
      "block4_conv1_vgg16 (Conv2D)  (None, 36, 36, 512)       1180160   \n",
      "_________________________________________________________________\n",
      "block4_conv2_vgg16 (Conv2D)  (None, 36, 36, 512)       2359808   \n",
      "_________________________________________________________________\n",
      "block4_conv3_vgg16 (Conv2D)  (None, 36, 36, 512)       2359808   \n",
      "_________________________________________________________________\n",
      "block4_pool_vgg16 (MaxPoolin (None, 18, 18, 512)       0         \n",
      "_________________________________________________________________\n",
      "block5_conv1_vgg16 (Conv2D)  (None, 18, 18, 512)       2359808   \n",
      "_________________________________________________________________\n",
      "block5_conv2_vgg16 (Conv2D)  (None, 18, 18, 512)       2359808   \n",
      "_________________________________________________________________\n",
      "block5_conv3_vgg16 (Conv2D)  (None, 18, 18, 512)       2359808   \n",
      "_________________________________________________________________\n",
      "block5_pool_vgg16 (MaxPoolin (None, 9, 9, 512)         0         \n",
      "_________________________________________________________________\n",
      "global_average_pooling2d_1_v (None, 512)               0         \n",
      "_________________________________________________________________\n",
      "dense_1_vgg16 (Dense)        (None, 1024)              525312    \n",
      "_________________________________________________________________\n",
      "dense_2_vgg16 (Dense)        (None, 228)               233700    \n",
      "=================================================================\n",
      "Total params: 15,473,700\n",
      "Trainable params: 759,012\n",
      "Non-trainable params: 14,714,688\n",
      "_________________________________________________________________\n"
     ]
    }
   ],
   "source": [
    "model_vgg16.summary()"
   ]
  },
  {
   "cell_type": "raw",
   "metadata": {},
   "source": [
    "resnet50_out = GlobalAveragePooling2D()(resnet50_out)"
   ]
  },
  {
   "cell_type": "raw",
   "metadata": {},
   "source": [
    "resnet50_out = Dense(1024, activation='relu')(resnet50_out)"
   ]
  },
  {
   "cell_type": "markdown",
   "metadata": {},
   "source": [
    "## Concatenation"
   ]
  },
  {
   "cell_type": "code",
   "execution_count": 290,
   "metadata": {},
   "outputs": [
    {
     "data": {
      "text/plain": [
       "True"
      ]
     },
     "execution_count": 290,
     "metadata": {},
     "output_type": "execute_result"
    }
   ],
   "source": [
    "# Checking if the instance is a symbolic tensor\n",
    "keras.backend.is_keras_tensor(vgg16_out)"
   ]
  },
  {
   "cell_type": "code",
   "execution_count": 291,
   "metadata": {},
   "outputs": [],
   "source": [
    "merge_0 = keras.layers.concatenate([vgg16_out, vgg19_out, xception_out])"
   ]
  },
  {
   "cell_type": "code",
   "execution_count": 292,
   "metadata": {},
   "outputs": [],
   "source": [
    "output = Dense(228, activation='sigmoid', name='main_output')(merge_0)"
   ]
  },
  {
   "cell_type": "code",
   "execution_count": 293,
   "metadata": {},
   "outputs": [],
   "source": [
    "model = Model(inputs=[model_vgg16.input, model_vgg19.input, model_xception.input], outputs=output)"
   ]
  },
  {
   "cell_type": "code",
   "execution_count": null,
   "metadata": {},
   "outputs": [],
   "source": []
  },
  {
   "cell_type": "code",
   "execution_count": 294,
   "metadata": {},
   "outputs": [
    {
     "name": "stdout",
     "output_type": "stream",
     "text": [
      "__________________________________________________________________________________________________\n",
      "Layer (type)                    Output Shape         Param #     Connected to                     \n",
      "==================================================================================================\n",
      "input_1_xception (InputLayer)   (None, 290, 290, 3)  0                                            \n",
      "__________________________________________________________________________________________________\n",
      "block1_conv1_xception (Conv2D)  (None, 144, 144, 32) 864         input_1_xception[0][0]           \n",
      "__________________________________________________________________________________________________\n",
      "block1_conv1_bn_xception (Batch (None, 144, 144, 32) 128         block1_conv1_xception[0][0]      \n",
      "__________________________________________________________________________________________________\n",
      "block1_conv1_act_xception (Acti (None, 144, 144, 32) 0           block1_conv1_bn_xception[0][0]   \n",
      "__________________________________________________________________________________________________\n",
      "block1_conv2_xception (Conv2D)  (None, 142, 142, 64) 18432       block1_conv1_act_xception[0][0]  \n",
      "__________________________________________________________________________________________________\n",
      "block1_conv2_bn_xception (Batch (None, 142, 142, 64) 256         block1_conv2_xception[0][0]      \n",
      "__________________________________________________________________________________________________\n",
      "block1_conv2_act_xception (Acti (None, 142, 142, 64) 0           block1_conv2_bn_xception[0][0]   \n",
      "__________________________________________________________________________________________________\n",
      "block2_sepconv1_xception (Separ (None, 142, 142, 128 8768        block1_conv2_act_xception[0][0]  \n",
      "__________________________________________________________________________________________________\n",
      "block2_sepconv1_bn_xception (Ba (None, 142, 142, 128 512         block2_sepconv1_xception[0][0]   \n",
      "__________________________________________________________________________________________________\n",
      "block2_sepconv2_act_xception (A (None, 142, 142, 128 0           block2_sepconv1_bn_xception[0][0]\n",
      "__________________________________________________________________________________________________\n",
      "block2_sepconv2_xception (Separ (None, 142, 142, 128 17536       block2_sepconv2_act_xception[0][0\n",
      "__________________________________________________________________________________________________\n",
      "block2_sepconv2_bn_xception (Ba (None, 142, 142, 128 512         block2_sepconv2_xception[0][0]   \n",
      "__________________________________________________________________________________________________\n",
      "conv2d_1_xception (Conv2D)      (None, 71, 71, 128)  8192        block1_conv2_act_xception[0][0]  \n",
      "__________________________________________________________________________________________________\n",
      "block2_pool_xception (MaxPoolin (None, 71, 71, 128)  0           block2_sepconv2_bn_xception[0][0]\n",
      "__________________________________________________________________________________________________\n",
      "batch_normalization_1_xception  (None, 71, 71, 128)  512         conv2d_1_xception[0][0]          \n",
      "__________________________________________________________________________________________________\n",
      "add_1_xception (Add)            (None, 71, 71, 128)  0           block2_pool_xception[0][0]       \n",
      "                                                                 batch_normalization_1_xception[0]\n",
      "__________________________________________________________________________________________________\n",
      "block3_sepconv1_act_xception (A (None, 71, 71, 128)  0           add_1_xception[0][0]             \n",
      "__________________________________________________________________________________________________\n",
      "block3_sepconv1_xception (Separ (None, 71, 71, 256)  33920       block3_sepconv1_act_xception[0][0\n",
      "__________________________________________________________________________________________________\n",
      "block3_sepconv1_bn_xception (Ba (None, 71, 71, 256)  1024        block3_sepconv1_xception[0][0]   \n",
      "__________________________________________________________________________________________________\n",
      "block3_sepconv2_act_xception (A (None, 71, 71, 256)  0           block3_sepconv1_bn_xception[0][0]\n",
      "__________________________________________________________________________________________________\n",
      "block3_sepconv2_xception (Separ (None, 71, 71, 256)  67840       block3_sepconv2_act_xception[0][0\n",
      "__________________________________________________________________________________________________\n",
      "block3_sepconv2_bn_xception (Ba (None, 71, 71, 256)  1024        block3_sepconv2_xception[0][0]   \n",
      "__________________________________________________________________________________________________\n",
      "conv2d_2_xception (Conv2D)      (None, 36, 36, 256)  32768       add_1_xception[0][0]             \n",
      "__________________________________________________________________________________________________\n",
      "block3_pool_xception (MaxPoolin (None, 36, 36, 256)  0           block3_sepconv2_bn_xception[0][0]\n",
      "__________________________________________________________________________________________________\n",
      "batch_normalization_2_xception  (None, 36, 36, 256)  1024        conv2d_2_xception[0][0]          \n",
      "__________________________________________________________________________________________________\n",
      "add_2_xception (Add)            (None, 36, 36, 256)  0           block3_pool_xception[0][0]       \n",
      "                                                                 batch_normalization_2_xception[0]\n",
      "__________________________________________________________________________________________________\n",
      "block4_sepconv1_act_xception (A (None, 36, 36, 256)  0           add_2_xception[0][0]             \n",
      "__________________________________________________________________________________________________\n",
      "block4_sepconv1_xception (Separ (None, 36, 36, 728)  188672      block4_sepconv1_act_xception[0][0\n",
      "__________________________________________________________________________________________________\n",
      "block4_sepconv1_bn_xception (Ba (None, 36, 36, 728)  2912        block4_sepconv1_xception[0][0]   \n",
      "__________________________________________________________________________________________________\n",
      "block4_sepconv2_act_xception (A (None, 36, 36, 728)  0           block4_sepconv1_bn_xception[0][0]\n",
      "__________________________________________________________________________________________________\n",
      "block4_sepconv2_xception (Separ (None, 36, 36, 728)  536536      block4_sepconv2_act_xception[0][0\n",
      "__________________________________________________________________________________________________\n",
      "block4_sepconv2_bn_xception (Ba (None, 36, 36, 728)  2912        block4_sepconv2_xception[0][0]   \n",
      "__________________________________________________________________________________________________\n",
      "conv2d_3_xception (Conv2D)      (None, 18, 18, 728)  186368      add_2_xception[0][0]             \n",
      "__________________________________________________________________________________________________\n",
      "block4_pool_xception (MaxPoolin (None, 18, 18, 728)  0           block4_sepconv2_bn_xception[0][0]\n",
      "__________________________________________________________________________________________________\n",
      "batch_normalization_3_xception  (None, 18, 18, 728)  2912        conv2d_3_xception[0][0]          \n",
      "__________________________________________________________________________________________________\n",
      "add_3_xception (Add)            (None, 18, 18, 728)  0           block4_pool_xception[0][0]       \n",
      "                                                                 batch_normalization_3_xception[0]\n",
      "__________________________________________________________________________________________________\n",
      "block5_sepconv1_act_xception (A (None, 18, 18, 728)  0           add_3_xception[0][0]             \n",
      "__________________________________________________________________________________________________\n",
      "block5_sepconv1_xception (Separ (None, 18, 18, 728)  536536      block5_sepconv1_act_xception[0][0\n",
      "__________________________________________________________________________________________________\n",
      "block5_sepconv1_bn_xception (Ba (None, 18, 18, 728)  2912        block5_sepconv1_xception[0][0]   \n",
      "__________________________________________________________________________________________________\n",
      "block5_sepconv2_act_xception (A (None, 18, 18, 728)  0           block5_sepconv1_bn_xception[0][0]\n",
      "__________________________________________________________________________________________________\n",
      "block5_sepconv2_xception (Separ (None, 18, 18, 728)  536536      block5_sepconv2_act_xception[0][0\n",
      "__________________________________________________________________________________________________\n",
      "block5_sepconv2_bn_xception (Ba (None, 18, 18, 728)  2912        block5_sepconv2_xception[0][0]   \n",
      "__________________________________________________________________________________________________\n",
      "block5_sepconv3_act_xception (A (None, 18, 18, 728)  0           block5_sepconv2_bn_xception[0][0]\n",
      "__________________________________________________________________________________________________\n",
      "block5_sepconv3_xception (Separ (None, 18, 18, 728)  536536      block5_sepconv3_act_xception[0][0\n",
      "__________________________________________________________________________________________________\n",
      "block5_sepconv3_bn_xception (Ba (None, 18, 18, 728)  2912        block5_sepconv3_xception[0][0]   \n",
      "__________________________________________________________________________________________________\n",
      "add_4_xception (Add)            (None, 18, 18, 728)  0           block5_sepconv3_bn_xception[0][0]\n",
      "                                                                 add_3_xception[0][0]             \n",
      "__________________________________________________________________________________________________\n",
      "block6_sepconv1_act_xception (A (None, 18, 18, 728)  0           add_4_xception[0][0]             \n",
      "__________________________________________________________________________________________________\n",
      "block6_sepconv1_xception (Separ (None, 18, 18, 728)  536536      block6_sepconv1_act_xception[0][0\n",
      "__________________________________________________________________________________________________\n",
      "block6_sepconv1_bn_xception (Ba (None, 18, 18, 728)  2912        block6_sepconv1_xception[0][0]   \n",
      "__________________________________________________________________________________________________\n",
      "block6_sepconv2_act_xception (A (None, 18, 18, 728)  0           block6_sepconv1_bn_xception[0][0]\n",
      "__________________________________________________________________________________________________\n",
      "block6_sepconv2_xception (Separ (None, 18, 18, 728)  536536      block6_sepconv2_act_xception[0][0\n",
      "__________________________________________________________________________________________________\n",
      "block6_sepconv2_bn_xception (Ba (None, 18, 18, 728)  2912        block6_sepconv2_xception[0][0]   \n",
      "__________________________________________________________________________________________________\n",
      "block6_sepconv3_act_xception (A (None, 18, 18, 728)  0           block6_sepconv2_bn_xception[0][0]\n",
      "__________________________________________________________________________________________________\n",
      "block6_sepconv3_xception (Separ (None, 18, 18, 728)  536536      block6_sepconv3_act_xception[0][0\n",
      "__________________________________________________________________________________________________\n",
      "block6_sepconv3_bn_xception (Ba (None, 18, 18, 728)  2912        block6_sepconv3_xception[0][0]   \n",
      "__________________________________________________________________________________________________\n",
      "add_5_xception (Add)            (None, 18, 18, 728)  0           block6_sepconv3_bn_xception[0][0]\n",
      "                                                                 add_4_xception[0][0]             \n",
      "__________________________________________________________________________________________________\n",
      "block7_sepconv1_act_xception (A (None, 18, 18, 728)  0           add_5_xception[0][0]             \n",
      "__________________________________________________________________________________________________\n",
      "block7_sepconv1_xception (Separ (None, 18, 18, 728)  536536      block7_sepconv1_act_xception[0][0\n",
      "__________________________________________________________________________________________________\n",
      "block7_sepconv1_bn_xception (Ba (None, 18, 18, 728)  2912        block7_sepconv1_xception[0][0]   \n",
      "__________________________________________________________________________________________________\n",
      "block7_sepconv2_act_xception (A (None, 18, 18, 728)  0           block7_sepconv1_bn_xception[0][0]\n",
      "__________________________________________________________________________________________________\n",
      "block7_sepconv2_xception (Separ (None, 18, 18, 728)  536536      block7_sepconv2_act_xception[0][0\n",
      "__________________________________________________________________________________________________\n",
      "block7_sepconv2_bn_xception (Ba (None, 18, 18, 728)  2912        block7_sepconv2_xception[0][0]   \n",
      "__________________________________________________________________________________________________\n",
      "block7_sepconv3_act_xception (A (None, 18, 18, 728)  0           block7_sepconv2_bn_xception[0][0]\n",
      "__________________________________________________________________________________________________\n",
      "block7_sepconv3_xception (Separ (None, 18, 18, 728)  536536      block7_sepconv3_act_xception[0][0\n",
      "__________________________________________________________________________________________________\n",
      "block7_sepconv3_bn_xception (Ba (None, 18, 18, 728)  2912        block7_sepconv3_xception[0][0]   \n",
      "__________________________________________________________________________________________________\n",
      "add_6_xception (Add)            (None, 18, 18, 728)  0           block7_sepconv3_bn_xception[0][0]\n",
      "                                                                 add_5_xception[0][0]             \n",
      "__________________________________________________________________________________________________\n",
      "block8_sepconv1_act_xception (A (None, 18, 18, 728)  0           add_6_xception[0][0]             \n",
      "__________________________________________________________________________________________________\n",
      "block8_sepconv1_xception (Separ (None, 18, 18, 728)  536536      block8_sepconv1_act_xception[0][0\n",
      "__________________________________________________________________________________________________\n",
      "block8_sepconv1_bn_xception (Ba (None, 18, 18, 728)  2912        block8_sepconv1_xception[0][0]   \n",
      "__________________________________________________________________________________________________\n",
      "block8_sepconv2_act_xception (A (None, 18, 18, 728)  0           block8_sepconv1_bn_xception[0][0]\n",
      "__________________________________________________________________________________________________\n",
      "block8_sepconv2_xception (Separ (None, 18, 18, 728)  536536      block8_sepconv2_act_xception[0][0\n",
      "__________________________________________________________________________________________________\n",
      "block8_sepconv2_bn_xception (Ba (None, 18, 18, 728)  2912        block8_sepconv2_xception[0][0]   \n",
      "__________________________________________________________________________________________________\n",
      "block8_sepconv3_act_xception (A (None, 18, 18, 728)  0           block8_sepconv2_bn_xception[0][0]\n",
      "__________________________________________________________________________________________________\n",
      "block8_sepconv3_xception (Separ (None, 18, 18, 728)  536536      block8_sepconv3_act_xception[0][0\n",
      "__________________________________________________________________________________________________\n",
      "block8_sepconv3_bn_xception (Ba (None, 18, 18, 728)  2912        block8_sepconv3_xception[0][0]   \n",
      "__________________________________________________________________________________________________\n",
      "add_7_xception (Add)            (None, 18, 18, 728)  0           block8_sepconv3_bn_xception[0][0]\n",
      "                                                                 add_6_xception[0][0]             \n",
      "__________________________________________________________________________________________________\n",
      "block9_sepconv1_act_xception (A (None, 18, 18, 728)  0           add_7_xception[0][0]             \n",
      "__________________________________________________________________________________________________\n",
      "block9_sepconv1_xception (Separ (None, 18, 18, 728)  536536      block9_sepconv1_act_xception[0][0\n",
      "__________________________________________________________________________________________________\n",
      "block9_sepconv1_bn_xception (Ba (None, 18, 18, 728)  2912        block9_sepconv1_xception[0][0]   \n",
      "__________________________________________________________________________________________________\n",
      "block9_sepconv2_act_xception (A (None, 18, 18, 728)  0           block9_sepconv1_bn_xception[0][0]\n",
      "__________________________________________________________________________________________________\n",
      "block9_sepconv2_xception (Separ (None, 18, 18, 728)  536536      block9_sepconv2_act_xception[0][0\n",
      "__________________________________________________________________________________________________\n",
      "block9_sepconv2_bn_xception (Ba (None, 18, 18, 728)  2912        block9_sepconv2_xception[0][0]   \n",
      "__________________________________________________________________________________________________\n",
      "block9_sepconv3_act_xception (A (None, 18, 18, 728)  0           block9_sepconv2_bn_xception[0][0]\n",
      "__________________________________________________________________________________________________\n",
      "block9_sepconv3_xception (Separ (None, 18, 18, 728)  536536      block9_sepconv3_act_xception[0][0\n",
      "__________________________________________________________________________________________________\n",
      "block9_sepconv3_bn_xception (Ba (None, 18, 18, 728)  2912        block9_sepconv3_xception[0][0]   \n",
      "__________________________________________________________________________________________________\n",
      "add_8_xception (Add)            (None, 18, 18, 728)  0           block9_sepconv3_bn_xception[0][0]\n",
      "                                                                 add_7_xception[0][0]             \n",
      "__________________________________________________________________________________________________\n",
      "block10_sepconv1_act_xception ( (None, 18, 18, 728)  0           add_8_xception[0][0]             \n",
      "__________________________________________________________________________________________________\n",
      "block10_sepconv1_xception (Sepa (None, 18, 18, 728)  536536      block10_sepconv1_act_xception[0][\n",
      "__________________________________________________________________________________________________\n",
      "block10_sepconv1_bn_xception (B (None, 18, 18, 728)  2912        block10_sepconv1_xception[0][0]  \n",
      "__________________________________________________________________________________________________\n",
      "block10_sepconv2_act_xception ( (None, 18, 18, 728)  0           block10_sepconv1_bn_xception[0][0\n",
      "__________________________________________________________________________________________________\n",
      "block10_sepconv2_xception (Sepa (None, 18, 18, 728)  536536      block10_sepconv2_act_xception[0][\n",
      "__________________________________________________________________________________________________\n",
      "block10_sepconv2_bn_xception (B (None, 18, 18, 728)  2912        block10_sepconv2_xception[0][0]  \n",
      "__________________________________________________________________________________________________\n",
      "block10_sepconv3_act_xception ( (None, 18, 18, 728)  0           block10_sepconv2_bn_xception[0][0\n",
      "__________________________________________________________________________________________________\n",
      "block10_sepconv3_xception (Sepa (None, 18, 18, 728)  536536      block10_sepconv3_act_xception[0][\n",
      "__________________________________________________________________________________________________\n",
      "block10_sepconv3_bn_xception (B (None, 18, 18, 728)  2912        block10_sepconv3_xception[0][0]  \n",
      "__________________________________________________________________________________________________\n",
      "add_9_xception (Add)            (None, 18, 18, 728)  0           block10_sepconv3_bn_xception[0][0\n",
      "                                                                 add_8_xception[0][0]             \n",
      "__________________________________________________________________________________________________\n",
      "block11_sepconv1_act_xception ( (None, 18, 18, 728)  0           add_9_xception[0][0]             \n",
      "__________________________________________________________________________________________________\n",
      "block11_sepconv1_xception (Sepa (None, 18, 18, 728)  536536      block11_sepconv1_act_xception[0][\n",
      "__________________________________________________________________________________________________\n",
      "block11_sepconv1_bn_xception (B (None, 18, 18, 728)  2912        block11_sepconv1_xception[0][0]  \n",
      "__________________________________________________________________________________________________\n",
      "block11_sepconv2_act_xception ( (None, 18, 18, 728)  0           block11_sepconv1_bn_xception[0][0\n",
      "__________________________________________________________________________________________________\n",
      "block11_sepconv2_xception (Sepa (None, 18, 18, 728)  536536      block11_sepconv2_act_xception[0][\n",
      "__________________________________________________________________________________________________\n",
      "block11_sepconv2_bn_xception (B (None, 18, 18, 728)  2912        block11_sepconv2_xception[0][0]  \n",
      "__________________________________________________________________________________________________\n",
      "block11_sepconv3_act_xception ( (None, 18, 18, 728)  0           block11_sepconv2_bn_xception[0][0\n",
      "__________________________________________________________________________________________________\n",
      "block11_sepconv3_xception (Sepa (None, 18, 18, 728)  536536      block11_sepconv3_act_xception[0][\n",
      "__________________________________________________________________________________________________\n",
      "block11_sepconv3_bn_xception (B (None, 18, 18, 728)  2912        block11_sepconv3_xception[0][0]  \n",
      "__________________________________________________________________________________________________\n",
      "add_10_xception (Add)           (None, 18, 18, 728)  0           block11_sepconv3_bn_xception[0][0\n",
      "                                                                 add_9_xception[0][0]             \n",
      "__________________________________________________________________________________________________\n",
      "block12_sepconv1_act_xception ( (None, 18, 18, 728)  0           add_10_xception[0][0]            \n",
      "__________________________________________________________________________________________________\n",
      "block12_sepconv1_xception (Sepa (None, 18, 18, 728)  536536      block12_sepconv1_act_xception[0][\n",
      "__________________________________________________________________________________________________\n",
      "input_1_vgg19 (InputLayer)      (None, 290, 290, 3)  0                                            \n",
      "__________________________________________________________________________________________________\n",
      "block12_sepconv1_bn_xception (B (None, 18, 18, 728)  2912        block12_sepconv1_xception[0][0]  \n",
      "__________________________________________________________________________________________________\n",
      "block1_conv1_vgg19 (Conv2D)     (None, 290, 290, 64) 1792        input_1_vgg19[0][0]              \n",
      "__________________________________________________________________________________________________\n",
      "block12_sepconv2_act_xception ( (None, 18, 18, 728)  0           block12_sepconv1_bn_xception[0][0\n",
      "__________________________________________________________________________________________________\n",
      "block1_conv2_vgg19 (Conv2D)     (None, 290, 290, 64) 36928       block1_conv1_vgg19[0][0]         \n",
      "__________________________________________________________________________________________________\n",
      "block12_sepconv2_xception (Sepa (None, 18, 18, 728)  536536      block12_sepconv2_act_xception[0][\n",
      "__________________________________________________________________________________________________\n",
      "input_1_vgg16 (InputLayer)      (None, 290, 290, 3)  0                                            \n",
      "__________________________________________________________________________________________________\n",
      "block1_pool_vgg19 (MaxPooling2D (None, 145, 145, 64) 0           block1_conv2_vgg19[0][0]         \n",
      "__________________________________________________________________________________________________\n",
      "block12_sepconv2_bn_xception (B (None, 18, 18, 728)  2912        block12_sepconv2_xception[0][0]  \n",
      "__________________________________________________________________________________________________\n",
      "block1_conv1_vgg16 (Conv2D)     (None, 290, 290, 64) 1792        input_1_vgg16[0][0]              \n",
      "__________________________________________________________________________________________________\n",
      "block2_conv1_vgg19 (Conv2D)     (None, 145, 145, 128 73856       block1_pool_vgg19[0][0]          \n",
      "__________________________________________________________________________________________________\n",
      "block12_sepconv3_act_xception ( (None, 18, 18, 728)  0           block12_sepconv2_bn_xception[0][0\n",
      "__________________________________________________________________________________________________\n",
      "block1_conv2_vgg16 (Conv2D)     (None, 290, 290, 64) 36928       block1_conv1_vgg16[0][0]         \n",
      "__________________________________________________________________________________________________\n",
      "block2_conv2_vgg19 (Conv2D)     (None, 145, 145, 128 147584      block2_conv1_vgg19[0][0]         \n",
      "__________________________________________________________________________________________________\n",
      "block12_sepconv3_xception (Sepa (None, 18, 18, 728)  536536      block12_sepconv3_act_xception[0][\n",
      "__________________________________________________________________________________________________\n",
      "block1_pool_vgg16 (MaxPooling2D (None, 145, 145, 64) 0           block1_conv2_vgg16[0][0]         \n",
      "__________________________________________________________________________________________________\n",
      "block2_pool_vgg19 (MaxPooling2D (None, 72, 72, 128)  0           block2_conv2_vgg19[0][0]         \n",
      "__________________________________________________________________________________________________\n",
      "block12_sepconv3_bn_xception (B (None, 18, 18, 728)  2912        block12_sepconv3_xception[0][0]  \n",
      "__________________________________________________________________________________________________\n",
      "block2_conv1_vgg16 (Conv2D)     (None, 145, 145, 128 73856       block1_pool_vgg16[0][0]          \n",
      "__________________________________________________________________________________________________\n",
      "block3_conv1_vgg19 (Conv2D)     (None, 72, 72, 256)  295168      block2_pool_vgg19[0][0]          \n",
      "__________________________________________________________________________________________________\n",
      "add_11_xception (Add)           (None, 18, 18, 728)  0           block12_sepconv3_bn_xception[0][0\n",
      "                                                                 add_10_xception[0][0]            \n",
      "__________________________________________________________________________________________________\n",
      "block2_conv2_vgg16 (Conv2D)     (None, 145, 145, 128 147584      block2_conv1_vgg16[0][0]         \n",
      "__________________________________________________________________________________________________\n",
      "block3_conv2_vgg19 (Conv2D)     (None, 72, 72, 256)  590080      block3_conv1_vgg19[0][0]         \n",
      "__________________________________________________________________________________________________\n",
      "block13_sepconv1_act_xception ( (None, 18, 18, 728)  0           add_11_xception[0][0]            \n",
      "__________________________________________________________________________________________________\n",
      "block2_pool_vgg16 (MaxPooling2D (None, 72, 72, 128)  0           block2_conv2_vgg16[0][0]         \n",
      "__________________________________________________________________________________________________\n",
      "block3_conv3_vgg19 (Conv2D)     (None, 72, 72, 256)  590080      block3_conv2_vgg19[0][0]         \n",
      "__________________________________________________________________________________________________\n",
      "block13_sepconv1_xception (Sepa (None, 18, 18, 728)  536536      block13_sepconv1_act_xception[0][\n",
      "__________________________________________________________________________________________________\n",
      "block3_conv1_vgg16 (Conv2D)     (None, 72, 72, 256)  295168      block2_pool_vgg16[0][0]          \n",
      "__________________________________________________________________________________________________\n",
      "block3_conv4_vgg19 (Conv2D)     (None, 72, 72, 256)  590080      block3_conv3_vgg19[0][0]         \n",
      "__________________________________________________________________________________________________\n",
      "block13_sepconv1_bn_xception (B (None, 18, 18, 728)  2912        block13_sepconv1_xception[0][0]  \n",
      "__________________________________________________________________________________________________\n",
      "block3_conv2_vgg16 (Conv2D)     (None, 72, 72, 256)  590080      block3_conv1_vgg16[0][0]         \n",
      "__________________________________________________________________________________________________\n",
      "block3_pool_vgg19 (MaxPooling2D (None, 36, 36, 256)  0           block3_conv4_vgg19[0][0]         \n",
      "__________________________________________________________________________________________________\n",
      "block13_sepconv2_act_xception ( (None, 18, 18, 728)  0           block13_sepconv1_bn_xception[0][0\n",
      "__________________________________________________________________________________________________\n",
      "block3_conv3_vgg16 (Conv2D)     (None, 72, 72, 256)  590080      block3_conv2_vgg16[0][0]         \n",
      "__________________________________________________________________________________________________\n",
      "block4_conv1_vgg19 (Conv2D)     (None, 36, 36, 512)  1180160     block3_pool_vgg19[0][0]          \n",
      "__________________________________________________________________________________________________\n",
      "block13_sepconv2_xception (Sepa (None, 18, 18, 1024) 752024      block13_sepconv2_act_xception[0][\n",
      "__________________________________________________________________________________________________\n",
      "block3_pool_vgg16 (MaxPooling2D (None, 36, 36, 256)  0           block3_conv3_vgg16[0][0]         \n",
      "__________________________________________________________________________________________________\n",
      "block4_conv2_vgg19 (Conv2D)     (None, 36, 36, 512)  2359808     block4_conv1_vgg19[0][0]         \n",
      "__________________________________________________________________________________________________\n",
      "block13_sepconv2_bn_xception (B (None, 18, 18, 1024) 4096        block13_sepconv2_xception[0][0]  \n",
      "__________________________________________________________________________________________________\n",
      "conv2d_4_xception (Conv2D)      (None, 9, 9, 1024)   745472      add_11_xception[0][0]            \n",
      "__________________________________________________________________________________________________\n",
      "block4_conv1_vgg16 (Conv2D)     (None, 36, 36, 512)  1180160     block3_pool_vgg16[0][0]          \n",
      "__________________________________________________________________________________________________\n",
      "block4_conv3_vgg19 (Conv2D)     (None, 36, 36, 512)  2359808     block4_conv2_vgg19[0][0]         \n",
      "__________________________________________________________________________________________________\n",
      "block13_pool_xception (MaxPooli (None, 9, 9, 1024)   0           block13_sepconv2_bn_xception[0][0\n",
      "__________________________________________________________________________________________________\n",
      "batch_normalization_4_xception  (None, 9, 9, 1024)   4096        conv2d_4_xception[0][0]          \n",
      "__________________________________________________________________________________________________\n",
      "block4_conv2_vgg16 (Conv2D)     (None, 36, 36, 512)  2359808     block4_conv1_vgg16[0][0]         \n",
      "__________________________________________________________________________________________________\n",
      "block4_conv4_vgg19 (Conv2D)     (None, 36, 36, 512)  2359808     block4_conv3_vgg19[0][0]         \n",
      "__________________________________________________________________________________________________\n",
      "add_12_xception (Add)           (None, 9, 9, 1024)   0           block13_pool_xception[0][0]      \n",
      "                                                                 batch_normalization_4_xception[0]\n",
      "__________________________________________________________________________________________________\n",
      "block4_conv3_vgg16 (Conv2D)     (None, 36, 36, 512)  2359808     block4_conv2_vgg16[0][0]         \n",
      "__________________________________________________________________________________________________\n",
      "block4_pool_vgg19 (MaxPooling2D (None, 18, 18, 512)  0           block4_conv4_vgg19[0][0]         \n",
      "__________________________________________________________________________________________________\n",
      "block14_sepconv1_xception (Sepa (None, 9, 9, 1536)   1582080     add_12_xception[0][0]            \n",
      "__________________________________________________________________________________________________\n",
      "block4_pool_vgg16 (MaxPooling2D (None, 18, 18, 512)  0           block4_conv3_vgg16[0][0]         \n",
      "__________________________________________________________________________________________________\n",
      "block5_conv1_vgg19 (Conv2D)     (None, 18, 18, 512)  2359808     block4_pool_vgg19[0][0]          \n",
      "__________________________________________________________________________________________________\n",
      "block14_sepconv1_bn_xception (B (None, 9, 9, 1536)   6144        block14_sepconv1_xception[0][0]  \n",
      "__________________________________________________________________________________________________\n",
      "block5_conv1_vgg16 (Conv2D)     (None, 18, 18, 512)  2359808     block4_pool_vgg16[0][0]          \n",
      "__________________________________________________________________________________________________\n",
      "block5_conv2_vgg19 (Conv2D)     (None, 18, 18, 512)  2359808     block5_conv1_vgg19[0][0]         \n",
      "__________________________________________________________________________________________________\n",
      "block14_sepconv1_act_xception ( (None, 9, 9, 1536)   0           block14_sepconv1_bn_xception[0][0\n",
      "__________________________________________________________________________________________________\n",
      "block5_conv2_vgg16 (Conv2D)     (None, 18, 18, 512)  2359808     block5_conv1_vgg16[0][0]         \n",
      "__________________________________________________________________________________________________\n",
      "block5_conv3_vgg19 (Conv2D)     (None, 18, 18, 512)  2359808     block5_conv2_vgg19[0][0]         \n",
      "__________________________________________________________________________________________________\n",
      "block14_sepconv2_xception (Sepa (None, 9, 9, 2048)   3159552     block14_sepconv1_act_xception[0][\n",
      "__________________________________________________________________________________________________\n",
      "block5_conv3_vgg16 (Conv2D)     (None, 18, 18, 512)  2359808     block5_conv2_vgg16[0][0]         \n",
      "__________________________________________________________________________________________________\n",
      "block5_conv4_vgg19 (Conv2D)     (None, 18, 18, 512)  2359808     block5_conv3_vgg19[0][0]         \n",
      "__________________________________________________________________________________________________\n",
      "block14_sepconv2_bn_xception (B (None, 9, 9, 2048)   8192        block14_sepconv2_xception[0][0]  \n",
      "__________________________________________________________________________________________________\n",
      "block5_pool_vgg16 (MaxPooling2D (None, 9, 9, 512)    0           block5_conv3_vgg16[0][0]         \n",
      "__________________________________________________________________________________________________\n",
      "block5_pool_vgg19 (MaxPooling2D (None, 9, 9, 512)    0           block5_conv4_vgg19[0][0]         \n",
      "__________________________________________________________________________________________________\n",
      "block14_sepconv2_act_xception ( (None, 9, 9, 2048)   0           block14_sepconv2_bn_xception[0][0\n",
      "__________________________________________________________________________________________________\n",
      "global_average_pooling2d_1_vgg1 (None, 512)          0           block5_pool_vgg16[0][0]          \n",
      "__________________________________________________________________________________________________\n",
      "global_average_pooling2d_1_vgg1 (None, 512)          0           block5_pool_vgg19[0][0]          \n",
      "__________________________________________________________________________________________________\n",
      "global_average_pooling2d_1_xcep (None, 2048)         0           block14_sepconv2_act_xception[0][\n",
      "__________________________________________________________________________________________________\n",
      "dense_1_vgg16 (Dense)           (None, 1024)         525312      global_average_pooling2d_1_vgg16[\n",
      "__________________________________________________________________________________________________\n",
      "dense_1_vgg19 (Dense)           (None, 1024)         525312      global_average_pooling2d_1_vgg19[\n",
      "__________________________________________________________________________________________________\n",
      "dense_1_xception (Dense)        (None, 1024)         2098176     global_average_pooling2d_1_xcepti\n",
      "__________________________________________________________________________________________________\n",
      "dense_2_vgg16 (Dense)           (None, 228)          233700      dense_1_vgg16[0][0]              \n",
      "__________________________________________________________________________________________________\n",
      "dense_2_vgg19 (Dense)           (None, 228)          233700      dense_1_vgg19[0][0]              \n",
      "__________________________________________________________________________________________________\n",
      "dense_2_xception (Dense)        (None, 228)          233700      dense_1_xception[0][0]           \n",
      "__________________________________________________________________________________________________\n",
      "concatenate_32 (Concatenate)    (None, 684)          0           dense_2_vgg16[0][0]              \n",
      "                                                                 dense_2_vgg19[0][0]              \n",
      "                                                                 dense_2_xception[0][0]           \n",
      "__________________________________________________________________________________________________\n",
      "main_output (Dense)             (None, 228)          156180      concatenate_32[0][0]             \n",
      "==================================================================================================\n",
      "Total params: 59,606,632\n",
      "Trainable params: 156,180\n",
      "Non-trainable params: 59,450,452\n",
      "__________________________________________________________________________________________________\n"
     ]
    }
   ],
   "source": [
    "model.summary()"
   ]
  },
  {
   "cell_type": "code",
   "execution_count": null,
   "metadata": {},
   "outputs": [],
   "source": []
  },
  {
   "cell_type": "markdown",
   "metadata": {},
   "source": [
    "# Testing"
   ]
  },
  {
   "cell_type": "code",
   "execution_count": 274,
   "metadata": {},
   "outputs": [],
   "source": [
    "# Set the paths\n",
    "input_path = os.path.abspath('../../mlipdata/')\n",
    "images_path_train = os.path.join(input_path, 'files/train/')\n",
    "images_path_validation = os.path.join(input_path, 'files/validation/')"
   ]
  },
  {
   "cell_type": "code",
   "execution_count": 295,
   "metadata": {},
   "outputs": [],
   "source": [
    "# Load the multilabel binarizer\n",
    "with open('pickles/binarizer.pickle', 'rb') as pickle_file:\n",
    "    binarizer = pickle.load(pickle_file)\n",
    "\n",
    "# Load training data from file\n",
    "train={}\n",
    "with open(os.path.join(input_path, 'train.json')) as json_data:\n",
    "    train= json.load(json_data)\n",
    "\n",
    "train_img_url = train['images']\n",
    "train_img_url = pd.DataFrame(train_img_url)\n",
    "train_ann = train['annotations']\n",
    "train_ann = pd.DataFrame(train_ann)\n",
    "train = pd.merge(train_img_url, train_ann, on='imageId', how='inner')\n",
    "train['imageId'] = train['imageId'].astype(np.uint32)\n",
    "\n",
    "y_train = np.array(train.labelId)\n",
    "y_train_bin = binarizer.transform(y_train)\n",
    "\n",
    "## Load validation\n",
    "validation={}\n",
    "with open(os.path.join(input_path, 'validation.json')) as json_data:\n",
    "    validation= json.load(json_data)\n",
    "\n",
    "validation_img_url = validation['images']\n",
    "validation_img_url = pd.DataFrame(validation_img_url)\n",
    "validation_ann = validation['annotations']\n",
    "validation_ann = pd.DataFrame(validation_ann)\n",
    "validation = pd.merge(validation_img_url, validation_ann, on='imageId', how='inner')\n",
    "validation['imageId'] = validation['imageId'].astype(np.uint32)\n",
    "\n",
    "y_validation = np.array(validation.labelId)\n",
    "y_validation_bin = binarizer.transform(y_validation)\n",
    "\n"
   ]
  },
  {
   "cell_type": "code",
   "execution_count": 296,
   "metadata": {},
   "outputs": [],
   "source": [
    "# Load the generator\n",
    "session = tf.Session()\n",
    "training_gen = BatchGenerator(input_dir=images_path_train,\n",
    "                                  y=y_train_bin[:1000],\n",
    "                                  epochs=3,\n",
    "                                  batch_size=64,\n",
    "                                  session=session)\n"
   ]
  },
  {
   "cell_type": "code",
   "execution_count": 297,
   "metadata": {},
   "outputs": [],
   "source": [
    "# Use binary loss instead of categorical loss to penalize each output independently\n",
    "model.compile(optimizer='adam', loss='binary_crossentropy')"
   ]
  },
  {
   "cell_type": "code",
   "execution_count": null,
   "metadata": {},
   "outputs": [],
   "source": [
    "for i in range(3):\n",
    "    for batch_x, batch_y in training_gen:\n",
    "        model.fit(batch_x, batch_y)\n",
    "        #model.fit(images_path_train, y_train_bin[:1000], epochs=3, batch_size=64)"
   ]
  },
  {
   "cell_type": "code",
   "execution_count": null,
   "metadata": {},
   "outputs": [],
   "source": [
    "model.save('./ensemble_model_1000.h5')"
   ]
  }
 ],
 "metadata": {
  "kernelspec": {
   "display_name": "Python 2",
   "language": "python",
   "name": "python2"
  },
  "language_info": {
   "codemirror_mode": {
    "name": "ipython",
    "version": 2
   },
   "file_extension": ".py",
   "mimetype": "text/x-python",
   "name": "python",
   "nbconvert_exporter": "python",
   "pygments_lexer": "ipython2",
   "version": "2.7.12"
  }
 },
 "nbformat": 4,
 "nbformat_minor": 2
}

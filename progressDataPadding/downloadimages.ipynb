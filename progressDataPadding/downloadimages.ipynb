{
 "cells": [
  {
   "cell_type": "code",
   "execution_count": 1,
   "metadata": {},
   "outputs": [],
   "source": [
    "import requests\n",
    "from joblib import Parallel, delayed\n",
    "import os"
   ]
  },
  {
   "cell_type": "code",
   "execution_count": 2,
   "metadata": {},
   "outputs": [],
   "source": [
    "\n",
    "\n",
    "def download_single_image(image_url, output_folder_path):\n",
    "    \"\"\"Downloads a single image with given URL and saves it under given folder path\n",
    "    \n",
    "    .. warning:: If a URL returns MissingSchema error, the image is skipped.\n",
    "    \"\"\"\n",
    "    try:\n",
    "        image = requests.get(image_url)\n",
    "    except requests.exceptions.MissingSchema:\n",
    "        pass\n",
    "    else:\n",
    "        image_name = '{}.jpg'.format(image_url.split('/')[-1])\n",
    "\n",
    "        image_path = os.path.join(output_folder_path, image_name)\n",
    "\n",
    "        with open(image_path, 'wb') as file:\n",
    "            file.write(image.content)\n",
    "\n",
    "\n",
    "def download_images(url_list, output_folder_path, n_jobs=2):\n",
    "    \"\"\"Downloads the images in parallel.\n",
    "    \n",
    "    See :func:`download_single_image` for the actual downloader\n",
    "    \"\"\"\n",
    "    os.makedirs(output_folder_path, exist_ok=True)\n",
    "    Parallel(n_jobs=n_jobs)(delayed(download_single_image)(image_url, output_folder_path) for image_url in url_list)"
   ]
  },
  {
   "cell_type": "code",
   "execution_count": 3,
   "metadata": {},
   "outputs": [],
   "source": [
    "import json"
   ]
  },
  {
   "cell_type": "code",
   "execution_count": 7,
   "metadata": {},
   "outputs": [],
   "source": [
    "file = json.dumps('train.json')"
   ]
  },
  {
   "cell_type": "code",
   "execution_count": 12,
   "metadata": {},
   "outputs": [],
   "source": [
    "import json\n",
    "from pprint import pprint\n",
    "\n",
    "with open('train.json') as f:\n",
    "    data = json.load(f)\n",
    "\n"
   ]
  },
  {
   "cell_type": "code",
   "execution_count": 19,
   "metadata": {},
   "outputs": [],
   "source": [
    "url_list = []"
   ]
  },
  {
   "cell_type": "code",
   "execution_count": 31,
   "metadata": {},
   "outputs": [],
   "source": [
    "for imag in data['images'][:100]:\n",
    "    url_list.append(imag['url'])"
   ]
  },
  {
   "cell_type": "code",
   "execution_count": 32,
   "metadata": {},
   "outputs": [],
   "source": [
    "output_folder_path = 'images'"
   ]
  },
  {
   "cell_type": "code",
   "execution_count": 36,
   "metadata": {},
   "outputs": [],
   "source": [
    "download_images(url_list, output_folder_path, n_jobs=2)"
   ]
  },
  {
   "cell_type": "code",
   "execution_count": null,
   "metadata": {},
   "outputs": [],
   "source": []
  }
 ],
 "metadata": {
  "kernelspec": {
   "display_name": "Python 3",
   "language": "python",
   "name": "python3"
  },
  "language_info": {
   "codemirror_mode": {
    "name": "ipython",
    "version": 3
   },
   "file_extension": ".py",
   "mimetype": "text/x-python",
   "name": "python",
   "nbconvert_exporter": "python",
   "pygments_lexer": "ipython3",
   "version": "3.5.2"
  }
 },
 "nbformat": 4,
 "nbformat_minor": 2
}

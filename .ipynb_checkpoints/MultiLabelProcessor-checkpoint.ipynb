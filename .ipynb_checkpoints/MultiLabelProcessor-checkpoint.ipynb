{
 "cells": [
  {
   "cell_type": "markdown",
   "metadata": {
    "_cell_guid": "f9084c68-3142-429e-8519-935cafd9977c",
    "_uuid": "112effedc14757145e92b1b2d9e0ab8da424ab4b"
   },
   "source": [
    "# MultiLabelProcessor\n",
    "\n",
    "This Notebook is used to convert the labels provided in JSON files to numpy arrays and store them on a local disk.\n",
    "How to use this Notebook:\n",
    "1. Check the data variables in cell 2. Make sure those folders exist and you have your downloaded files in there.\n",
    "2. Run the whole Notebook **once** - it stores the generated arrays on your local disk.\n",
    "3. Import "
   ]
  },
  {
   "cell_type": "code",
   "execution_count": null,
   "metadata": {
    "_cell_guid": "b1076dfc-b9ad-4769-8c92-a6c4dae69d19",
    "_uuid": "8f2839f25d086af736a60e9eeb907d3b93b6e0e5",
    "collapsed": true
   },
   "outputs": [],
   "source": [
    "import time\n",
    "script_start_time = time.time()\n",
    "\n",
    "import pandas as pd\n",
    "import numpy as np\n",
    "import json\n",
    "\n",
    "pd.set_option('display.max_rows', 600)\n",
    "pd.set_option('display.max_columns', 50)\n",
    "import warnings\n",
    "warnings.filterwarnings('ignore')\n",
    "\n",
    "data_path = \"../input\""
   ]
  },
  {
   "cell_type": "markdown",
   "metadata": {
    "_cell_guid": "94b674db-985b-47c2-8f7c-1dd967bd5bc8",
    "_uuid": "6bafc7c62e102e1701057562fe408fa9b97193fe"
   },
   "source": [
    "## 1. Load data from json"
   ]
  },
  {
   "cell_type": "code",
   "execution_count": null,
   "metadata": {
    "_cell_guid": "79c7e3d0-c299-4dcb-8224-4455121ee9b0",
    "_uuid": "d629ff2d2480ee46fbb7e2d37f6b5fab8052498a",
    "collapsed": true
   },
   "outputs": [],
   "source": [
    "# 1. Load data =================================================================\n",
    "print('%0.2f min: Start loading data'%((time.time() - script_start_time)/60))\n",
    "\n",
    "train={}\n",
    "test={}\n",
    "validation={}\n",
    "with open('%s/train.json'%(data_path)) as json_data:\n",
    "    train= json.load(json_data)\n",
    "with open('%s/test.json'%(data_path)) as json_data:\n",
    "    test= json.load(json_data)\n",
    "with open('%s/validation.json'%(data_path)) as json_data:\n",
    "    validation = json.load(json_data)\n",
    "\n",
    "print('Train No. of images: %d'%(len(train['images'])))\n",
    "print('Test No. of images: %d'%(len(test['images'])))\n",
    "print('Validation No. of images: %d'%(len(validation['images'])))\n",
    "\n",
    "# JSON TO PANDAS DATAFRAME\n",
    "# train data\n",
    "train_img_url=train['images']\n",
    "train_img_url=pd.DataFrame(train_img_url)\n",
    "train_ann=train['annotations']\n",
    "train_ann=pd.DataFrame(train_ann)\n",
    "train=pd.merge(train_img_url, train_ann, on='imageId', how='inner')\n",
    "\n",
    "# test data\n",
    "test=pd.DataFrame(test['images'])\n",
    "\n",
    "# Validation Data\n",
    "val_img_url=validation['images']\n",
    "val_img_url=pd.DataFrame(val_img_url)\n",
    "val_ann=validation['annotations']\n",
    "val_ann=pd.DataFrame(val_ann)\n",
    "validation=pd.merge(val_img_url, val_ann, on='imageId', how='inner')\n",
    "\n",
    "datas = {'Train': train, 'Test': test, 'Validation': validation}\n",
    "for data in datas.values():\n",
    "    data['imageId'] = data['imageId'].astype(np.uint32)\n",
    "\n",
    "print('%0.2f min: Finish loading data'%((time.time() - script_start_time)/60))\n",
    "print('='*50)"
   ]
  },
  {
   "cell_type": "code",
   "execution_count": null,
   "metadata": {
    "_cell_guid": "adb47a83-4e06-4dff-bebb-5759b5f1d02c",
    "_uuid": "e4f6b5eade9f0cf820539241a694ac6216bc29ec",
    "collapsed": true
   },
   "outputs": [],
   "source": [
    "train.head()"
   ]
  },
  {
   "cell_type": "code",
   "execution_count": null,
   "metadata": {
    "_cell_guid": "c8d6cfd0-2180-4442-9ef9-9c392c5b2b10",
    "_uuid": "68f6c10c2fe2e41c2c304a2998d7fcebcf66d6ad",
    "collapsed": true
   },
   "outputs": [],
   "source": [
    "validation.head()"
   ]
  },
  {
   "cell_type": "code",
   "execution_count": null,
   "metadata": {
    "_cell_guid": "ad491d1f-6800-4543-8ccc-b2ae36ef334c",
    "_uuid": "84731cda31f07eb7bfe1ca373777ad44cd62737d",
    "collapsed": true
   },
   "outputs": [],
   "source": [
    "test.head()"
   ]
  },
  {
   "cell_type": "markdown",
   "metadata": {
    "_cell_guid": "56a9daec-f32a-4d80-80dd-d8503dea9e56",
    "_uuid": "5ddabd3529e0a99cef281648834dc13be92d20e8"
   },
   "source": [
    "## 2. MultiLabelBinarizer\n",
    "As the labelId is a list, we need to convert them to single label in a matrix to feed out classifiers. Luckily, sklearns provide such as tool."
   ]
  },
  {
   "cell_type": "code",
   "execution_count": null,
   "metadata": {
    "_cell_guid": "50a2cfa2-2168-435d-8c40-a43d792eb3dd",
    "_uuid": "1e3fec75e89367da37c5c3cd1d8f3b854f7a5e77",
    "collapsed": true
   },
   "outputs": [],
   "source": [
    "print('%0.2f min: Start converting label'%((time.time() - script_start_time)/60))\n",
    "from sklearn.preprocessing import MultiLabelBinarizer\n",
    "mlb = MultiLabelBinarizer()\n",
    "train_label = mlb.fit_transform(train['labelId'])\n",
    "validation_label = mlb.transform(validation['labelId'])\n",
    "dummy_label_col = list(mlb.classes_)\n",
    "print(dummy_label_col)\n",
    "print('%0.2f min: Finish converting label'%((time.time() - script_start_time)/60))\n",
    "\n",
    "for data in [validation_label, train_label, test]:\n",
    "    print(data.shape)"
   ]
  },
  {
   "cell_type": "markdown",
   "metadata": {
    "_cell_guid": "8833a484-bd52-4110-be76-9a2b77acc134",
    "_uuid": "427dcb5453e2751aefe8988c16f6badc6e8f8548"
   },
   "source": [
    "I recommend you to save it as numpy for faster loading and the column name in an empty csv file for reconversion later to when submitting."
   ]
  },
  {
   "cell_type": "code",
   "execution_count": null,
   "metadata": {
    "_cell_guid": "9f5ba397-f677-4d6b-a2be-75a2b077099a",
    "_uuid": "b80425c2a44e29c31eb0a850c7b39bc9101587fb",
    "collapsed": true
   },
   "outputs": [],
   "source": [
    "# Save as numpy\n",
    "dummy_label_col = pd.DataFrame(columns = dummy_label_col)\n",
    "# dummy_label_col.to_csv('%s/dummy_label_col.csv'%'', index = False)\n",
    "# np.save('%s/dummy_label_train.npy' % '', train_label)\n",
    "# np.save('%s/dummy_label_val.npy' % '', validation_label)\n",
    "dummy_label_col.head()"
   ]
  },
  {
   "cell_type": "code",
   "execution_count": null,
   "metadata": {
    "_cell_guid": "930bd884-4abb-40e8-a5b9-1105d2c87a78",
    "_uuid": "65112df051a32d978386d48328fcc052b494bc9d",
    "collapsed": true
   },
   "outputs": [],
   "source": [
    "# Save as csv if you prefer\n",
    "train_label = pd.DataFrame(data = train_label, columns = list(mlb.classes_))\n",
    "train_label.head()\n",
    "validation_label = pd.DataFrame(data = validation_label, columns = list(mlb.classes_))\n",
    "validation_label.head()"
   ]
  },
  {
   "cell_type": "markdown",
   "metadata": {
    "_cell_guid": "1a750328-29c4-4e73-9855-dd069e3026e5",
    "_uuid": "52b33269755b18533231650760c6d3fad1310fa8"
   },
   "source": [
    "This is my previous hardworking but stupid way of converting. I am not regretting as I also learn something during the process. Just for your reference and a comparision with the previous method."
   ]
  },
  {
   "cell_type": "code",
   "execution_count": null,
   "metadata": {
    "_cell_guid": "7cd70537-8454-4912-ad4e-e9235920c8ab",
    "_uuid": "71ecbee74aa4f9b29384b7d664a3420947c7f9b9",
    "collapsed": true
   },
   "outputs": [],
   "source": [
    "# print('%0.2f min: Start converting validation'%((time.time() - script_start_time)/60))\n",
    "# validation_label = validation[['labelId']]\n",
    "# validation_label['labelId'] = validation_label['labelId'].apply(lambda labels: str([int(l) for l in labels]).replace('[','').replace(']', ''))\n",
    "# validation_label = validation_label['labelId'].str.get_dummies(sep=', ')\n",
    "# validation_label = validation_label.astype(np.uint8)\n",
    "# print('%0.2f min: Finish converting validation'%((time.time() - script_start_time)/60))\n",
    "\n",
    "\n",
    "# print('%0.2f min: Start converting train'%((time.time() - script_start_time)/60))\n",
    "# train_label = train[['labelId']]\n",
    "# train_label['labelId'] = train_label['labelId'].apply(lambda labels: str([int(l) for l in labels]).replace('[','').replace(']', ''))\n",
    "# train_label = train_label['labelId'].str.get_dummies(sep=', ')\n",
    "# train_label = train_label.astype(np.uint8)\n",
    "# print('%0.2f min: Finish converting train'%((time.time() - script_start_time)/60))\n",
    "\n",
    "# validation_missing_labels = set(list(train_label.columns)).difference(set(list(validation_label.columns)))\n",
    "\n",
    "# print(validation_missing_labels)\n",
    "# for l in validation_missing_labels:\n",
    "#     validation_label[str(l)] = 0\n",
    "#     # print(validation[str(l)].sum())\n",
    "# validation_label = validation_label.astype(np.uint8)"
   ]
  },
  {
   "cell_type": "markdown",
   "metadata": {
    "_cell_guid": "15a5feeb-9300-4594-b705-9f6443f8d97c",
    "_uuid": "0760eec4addbdb6604bbc722d7203e24b3128496"
   },
   "source": [
    "Hope this help you a bit."
   ]
  }
 ],
 "metadata": {
  "kernelspec": {
   "display_name": "Python 3",
   "language": "python",
   "name": "python3"
  },
  "language_info": {
   "codemirror_mode": {
    "name": "ipython",
    "version": 3
   },
   "file_extension": ".py",
   "mimetype": "text/x-python",
   "name": "python",
   "nbconvert_exporter": "python",
   "pygments_lexer": "ipython3",
   "version": "3.6.3"
  }
 },
 "nbformat": 4,
 "nbformat_minor": 1
}

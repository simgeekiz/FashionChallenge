{
 "cells": [
  {
   "cell_type": "code",
   "execution_count": 52,
   "metadata": {},
   "outputs": [],
   "source": [
    "import numpy as np\n",
    "\n",
    "from keras.models import Sequential\n",
    "from keras.layers import Dense\n",
    "from keras.callbacks import Callback\n",
    "\n",
    "from sklearn.metrics import f1_score, precision_score, recall_score"
   ]
  },
  {
   "cell_type": "markdown",
   "metadata": {},
   "source": [
    "### Define new callback for recall, precision and mean F1"
   ]
  },
  {
   "cell_type": "code",
   "execution_count": 53,
   "metadata": {},
   "outputs": [],
   "source": [
    "class Metrics(Callback):\n",
    "\n",
    "    def on_train_begin(self, logs={}):\n",
    "        self.mean_f1s = []\n",
    "        self.recalls = []\n",
    "        self.precisions = []\n",
    "\n",
    "    def on_epoch_end(self, epoch, logs={}):\n",
    "        y_pred = (np.asarray(self.model.predict(self.validation_data[0]))).round()\n",
    "        y_true = self.validation_data[1]\n",
    "\n",
    "        mean_f1 = f1_score(y_true, y_pred, average='macro')\n",
    "        recall = recall_score(y_true, y_pred, average='macro')\n",
    "        precision = precision_score(y_true, y_pred, average='macro')\n",
    "        self.mean_f1s.append(mean_f1)\n",
    "        self.recalls.append(recall)\n",
    "        self.precisions.append(precision)\n",
    "\n",
    "        print('mean_F1: {} — precision: {} — recall: {}'.format(mean_f1, precision, recall))\n",
    "\n",
    "metrics = Metrics()"
   ]
  },
  {
   "cell_type": "markdown",
   "metadata": {},
   "source": [
    "#### Create random model and data"
   ]
  },
  {
   "cell_type": "code",
   "execution_count": 54,
   "metadata": {},
   "outputs": [],
   "source": [
    "model = Sequential()\n",
    "model.add(Dense(3, input_shape=(3,), activation='relu'))\n",
    "model.add(Dense(1, activation='sigmoid'))\n",
    "model.compile(loss='binary_crossentropy', optimizer='Adam')\n",
    "\n",
    "xt = np.array([[1,2,3],[2,3,4],[3,4,5],[4,5,6],[1,2,3],[2,3,4],[3,4,5],[4,5,6],[1,2,3],[2,3,4],[3,4,5],[4,5,6],[1,2,3],[2,3,4],[3,4,5],[4,5,6]])\n",
    "yt = np.array([1,2,3,4,1,2,3,4,1,2,3,4,1,2,3,4])\n",
    "valx = np.array([[1,2,3],[2,3,4],[3,4,5]])\n",
    "valy = np.array([1,2,3])"
   ]
  },
  {
   "cell_type": "markdown",
   "metadata": {},
   "source": [
    "### Train model using new callback"
   ]
  },
  {
   "cell_type": "code",
   "execution_count": 55,
   "metadata": {},
   "outputs": [
    {
     "name": "stdout",
     "output_type": "stream",
     "text": [
      "Train on 16 samples, validate on 3 samples\n",
      "Epoch 1/10\n",
      "16/16 [==============================] - 0s 16ms/step - loss: 6.8615 - val_loss: 4.4855\n",
      "mean_F1: 0.0 — precision: 0.0 — recall: 0.0\n",
      "Epoch 2/10\n",
      "16/16 [==============================] - 0s 249us/step - loss: 6.8284 - val_loss: 4.4601\n",
      "mean_F1: 0.0 — precision: 0.0 — recall: 0.0\n",
      "Epoch 3/10\n",
      "16/16 [==============================] - 0s 375us/step - loss: 6.7901 - val_loss: 4.4331\n",
      "mean_F1: 0.0 — precision: 0.0 — recall: 0.0\n",
      "Epoch 4/10\n",
      "16/16 [==============================] - 0s 313us/step - loss: 6.7496 - val_loss: 4.4054\n",
      "mean_F1: 0.0 — precision: 0.0 — recall: 0.0\n",
      "Epoch 5/10\n",
      "16/16 [==============================] - 0s 500us/step - loss: 6.7078 - val_loss: 4.3770\n",
      "mean_F1: 0.0 — precision: 0.0 — recall: 0.0\n",
      "Epoch 6/10\n",
      "16/16 [==============================] - 0s 312us/step - loss: 6.6653 - val_loss: 4.3484\n",
      "mean_F1: 0.0 — precision: 0.0 — recall: 0.0\n",
      "Epoch 7/10\n",
      "16/16 [==============================] - 0s 375us/step - loss: 6.6221 - val_loss: 4.3195\n",
      "mean_F1: 0.0 — precision: 0.0 — recall: 0.0\n",
      "Epoch 8/10\n",
      "16/16 [==============================] - 0s 312us/step - loss: 6.5786 - val_loss: 4.2904\n",
      "mean_F1: 0.0 — precision: 0.0 — recall: 0.0\n",
      "Epoch 9/10\n",
      "16/16 [==============================] - 0s 438us/step - loss: 6.5348 - val_loss: 4.2612\n",
      "mean_F1: 0.0 — precision: 0.0 — recall: 0.0\n",
      "Epoch 10/10\n",
      "16/16 [==============================] - 0s 312us/step - loss: 6.4908 - val_loss: 4.2318\n",
      "mean_F1: 0.0 — precision: 0.0 — recall: 0.0\n"
     ]
    },
    {
     "name": "stderr",
     "output_type": "stream",
     "text": [
      "C:\\Users\\Joan\\Anaconda3\\envs\\tensorflow\\lib\\site-packages\\sklearn\\metrics\\classification.py:1135: UndefinedMetricWarning: F-score is ill-defined and being set to 0.0 in labels with no predicted samples.\n",
      "  'precision', 'predicted', average, warn_for)\n",
      "C:\\Users\\Joan\\Anaconda3\\envs\\tensorflow\\lib\\site-packages\\sklearn\\metrics\\classification.py:1137: UndefinedMetricWarning: F-score is ill-defined and being set to 0.0 in labels with no true samples.\n",
      "  'recall', 'true', average, warn_for)\n",
      "C:\\Users\\Joan\\Anaconda3\\envs\\tensorflow\\lib\\site-packages\\sklearn\\metrics\\classification.py:1137: UndefinedMetricWarning: Recall is ill-defined and being set to 0.0 in labels with no true samples.\n",
      "  'recall', 'true', average, warn_for)\n",
      "C:\\Users\\Joan\\Anaconda3\\envs\\tensorflow\\lib\\site-packages\\sklearn\\metrics\\classification.py:1135: UndefinedMetricWarning: Precision is ill-defined and being set to 0.0 in labels with no predicted samples.\n",
      "  'precision', 'predicted', average, warn_for)\n"
     ]
    }
   ],
   "source": [
    "history = model.fit(xt,yt, validation_data=(valx,valy), callbacks=[metrics], epochs=10)"
   ]
  }
 ],
 "metadata": {
  "kernelspec": {
   "display_name": "Python 3",
   "language": "python",
   "name": "python3"
  },
  "language_info": {
   "codemirror_mode": {
    "name": "ipython",
    "version": 3
   },
   "file_extension": ".py",
   "mimetype": "text/x-python",
   "name": "python",
   "nbconvert_exporter": "python",
   "pygments_lexer": "ipython3",
   "version": "3.5.5"
  }
 },
 "nbformat": 4,
 "nbformat_minor": 2
}

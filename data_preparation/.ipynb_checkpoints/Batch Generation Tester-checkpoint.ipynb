{
 "cells": [
  {
   "cell_type": "markdown",
   "metadata": {},
   "source": [
    "# Data Preparation"
   ]
  },
  {
   "cell_type": "code",
   "execution_count": 18,
   "metadata": {
    "collapsed": true
   },
   "outputs": [],
   "source": [
    "import os\n",
    "import tqdm\n",
    "\n",
    "import pandas as pd\n",
    "import numpy as np\n",
    "from PIL import Image\n",
    "import matplotlib as plt"
   ]
  },
  {
   "cell_type": "code",
   "execution_count": 5,
   "metadata": {
    "collapsed": true
   },
   "outputs": [],
   "source": [
    "datadir = 'D:\\\\Documenten\\\\Radboud University\\\\2017-2018\\\\Semester 2\\\\Computing Science\\\\Machine Learning in Practice\\\\Fashion\\\\data\\\\'"
   ]
  },
  {
   "cell_type": "markdown",
   "metadata": {},
   "source": [
    "### Loading data"
   ]
  },
  {
   "cell_type": "code",
   "execution_count": 11,
   "metadata": {
    "collapsed": true
   },
   "outputs": [],
   "source": [
    "annotation_path = os.path.join(datadir, 'multilabels/')\n",
    "multilabels_train = np.load(os.path.join(annotation_path, 'multilabel_train.npy'))"
   ]
  },
  {
   "cell_type": "code",
   "execution_count": 13,
   "metadata": {
    "collapsed": true
   },
   "outputs": [],
   "source": [
    "y_train = multilabels_train"
   ]
  },
  {
   "cell_type": "code",
   "execution_count": 16,
   "metadata": {
    "collapsed": true
   },
   "outputs": [],
   "source": [
    "def image_to_ndarray(path):\n",
    "    img = Image.open(path)\n",
    "    img.load()\n",
    "    return np.asarray(img, dtype='int32')"
   ]
  },
  {
   "cell_type": "code",
   "execution_count": 23,
   "metadata": {},
   "outputs": [
    {
     "ename": "MemoryError",
     "evalue": "",
     "output_type": "error",
     "traceback": [
      "\u001b[1;31m---------------------------------------------------------------------------\u001b[0m",
      "\u001b[1;31mMemoryError\u001b[0m                               Traceback (most recent call last)",
      "\u001b[1;32m<ipython-input-23-8c94527e67b6>\u001b[0m in \u001b[0;36m<module>\u001b[1;34m()\u001b[0m\n\u001b[0;32m      4\u001b[0m \u001b[0mimages_path_train\u001b[0m \u001b[1;33m=\u001b[0m \u001b[0mos\u001b[0m\u001b[1;33m.\u001b[0m\u001b[0mpath\u001b[0m\u001b[1;33m.\u001b[0m\u001b[0mjoin\u001b[0m\u001b[1;33m(\u001b[0m\u001b[0mimages_path\u001b[0m\u001b[1;33m,\u001b[0m \u001b[1;34m'train/'\u001b[0m\u001b[1;33m)\u001b[0m\u001b[1;33m\u001b[0m\u001b[0m\n\u001b[0;32m      5\u001b[0m \u001b[1;31m# print(len(os.listdir(images_path_train)))\u001b[0m\u001b[1;33m\u001b[0m\u001b[1;33m\u001b[0m\u001b[0m\n\u001b[1;32m----> 6\u001b[1;33m \u001b[0mX_train\u001b[0m \u001b[1;33m=\u001b[0m \u001b[1;33m[\u001b[0m\u001b[0mimage_to_ndarray\u001b[0m\u001b[1;33m(\u001b[0m\u001b[0mos\u001b[0m\u001b[1;33m.\u001b[0m\u001b[0mpath\u001b[0m\u001b[1;33m.\u001b[0m\u001b[0mjoin\u001b[0m\u001b[1;33m(\u001b[0m\u001b[0mimages_path_train\u001b[0m\u001b[1;33m,\u001b[0m \u001b[0mfilename\u001b[0m\u001b[1;33m)\u001b[0m\u001b[1;33m)\u001b[0m \u001b[1;32mfor\u001b[0m \u001b[0mfilename\u001b[0m \u001b[1;32min\u001b[0m \u001b[0mos\u001b[0m\u001b[1;33m.\u001b[0m\u001b[0mlistdir\u001b[0m\u001b[1;33m(\u001b[0m\u001b[0mimages_path_train\u001b[0m\u001b[1;33m)\u001b[0m\u001b[1;33m]\u001b[0m\u001b[1;33m\u001b[0m\u001b[0m\n\u001b[0m\u001b[0;32m      7\u001b[0m \u001b[1;31m# print(len(X_train))\u001b[0m\u001b[1;33m\u001b[0m\u001b[1;33m\u001b[0m\u001b[0m\n",
      "\u001b[1;32m<ipython-input-23-8c94527e67b6>\u001b[0m in \u001b[0;36m<listcomp>\u001b[1;34m(.0)\u001b[0m\n\u001b[0;32m      4\u001b[0m \u001b[0mimages_path_train\u001b[0m \u001b[1;33m=\u001b[0m \u001b[0mos\u001b[0m\u001b[1;33m.\u001b[0m\u001b[0mpath\u001b[0m\u001b[1;33m.\u001b[0m\u001b[0mjoin\u001b[0m\u001b[1;33m(\u001b[0m\u001b[0mimages_path\u001b[0m\u001b[1;33m,\u001b[0m \u001b[1;34m'train/'\u001b[0m\u001b[1;33m)\u001b[0m\u001b[1;33m\u001b[0m\u001b[0m\n\u001b[0;32m      5\u001b[0m \u001b[1;31m# print(len(os.listdir(images_path_train)))\u001b[0m\u001b[1;33m\u001b[0m\u001b[1;33m\u001b[0m\u001b[0m\n\u001b[1;32m----> 6\u001b[1;33m \u001b[0mX_train\u001b[0m \u001b[1;33m=\u001b[0m \u001b[1;33m[\u001b[0m\u001b[0mimage_to_ndarray\u001b[0m\u001b[1;33m(\u001b[0m\u001b[0mos\u001b[0m\u001b[1;33m.\u001b[0m\u001b[0mpath\u001b[0m\u001b[1;33m.\u001b[0m\u001b[0mjoin\u001b[0m\u001b[1;33m(\u001b[0m\u001b[0mimages_path_train\u001b[0m\u001b[1;33m,\u001b[0m \u001b[0mfilename\u001b[0m\u001b[1;33m)\u001b[0m\u001b[1;33m)\u001b[0m \u001b[1;32mfor\u001b[0m \u001b[0mfilename\u001b[0m \u001b[1;32min\u001b[0m \u001b[0mos\u001b[0m\u001b[1;33m.\u001b[0m\u001b[0mlistdir\u001b[0m\u001b[1;33m(\u001b[0m\u001b[0mimages_path_train\u001b[0m\u001b[1;33m)\u001b[0m\u001b[1;33m]\u001b[0m\u001b[1;33m\u001b[0m\u001b[0m\n\u001b[0m\u001b[0;32m      7\u001b[0m \u001b[1;31m# print(len(X_train))\u001b[0m\u001b[1;33m\u001b[0m\u001b[1;33m\u001b[0m\u001b[0m\n",
      "\u001b[1;32m<ipython-input-16-d2be95a5bf23>\u001b[0m in \u001b[0;36mimage_to_ndarray\u001b[1;34m(path)\u001b[0m\n\u001b[0;32m      2\u001b[0m     \u001b[0mimg\u001b[0m \u001b[1;33m=\u001b[0m \u001b[0mImage\u001b[0m\u001b[1;33m.\u001b[0m\u001b[0mopen\u001b[0m\u001b[1;33m(\u001b[0m\u001b[0mpath\u001b[0m\u001b[1;33m)\u001b[0m\u001b[1;33m\u001b[0m\u001b[0m\n\u001b[0;32m      3\u001b[0m     \u001b[0mimg\u001b[0m\u001b[1;33m.\u001b[0m\u001b[0mload\u001b[0m\u001b[1;33m(\u001b[0m\u001b[1;33m)\u001b[0m\u001b[1;33m\u001b[0m\u001b[0m\n\u001b[1;32m----> 4\u001b[1;33m     \u001b[1;32mreturn\u001b[0m \u001b[0mnp\u001b[0m\u001b[1;33m.\u001b[0m\u001b[0masarray\u001b[0m\u001b[1;33m(\u001b[0m\u001b[0mimg\u001b[0m\u001b[1;33m,\u001b[0m \u001b[0mdtype\u001b[0m\u001b[1;33m=\u001b[0m\u001b[1;34m'int32'\u001b[0m\u001b[1;33m)\u001b[0m\u001b[1;33m\u001b[0m\u001b[0m\n\u001b[0m",
      "\u001b[1;32m~\\Anaconda3\\envs\\tensorflow\\lib\\site-packages\\numpy\\core\\numeric.py\u001b[0m in \u001b[0;36masarray\u001b[1;34m(a, dtype, order)\u001b[0m\n\u001b[0;32m    490\u001b[0m \u001b[1;33m\u001b[0m\u001b[0m\n\u001b[0;32m    491\u001b[0m     \"\"\"\n\u001b[1;32m--> 492\u001b[1;33m     \u001b[1;32mreturn\u001b[0m \u001b[0marray\u001b[0m\u001b[1;33m(\u001b[0m\u001b[0ma\u001b[0m\u001b[1;33m,\u001b[0m \u001b[0mdtype\u001b[0m\u001b[1;33m,\u001b[0m \u001b[0mcopy\u001b[0m\u001b[1;33m=\u001b[0m\u001b[1;32mFalse\u001b[0m\u001b[1;33m,\u001b[0m \u001b[0morder\u001b[0m\u001b[1;33m=\u001b[0m\u001b[0morder\u001b[0m\u001b[1;33m)\u001b[0m\u001b[1;33m\u001b[0m\u001b[0m\n\u001b[0m\u001b[0;32m    493\u001b[0m \u001b[1;33m\u001b[0m\u001b[0m\n\u001b[0;32m    494\u001b[0m \u001b[1;33m\u001b[0m\u001b[0m\n",
      "\u001b[1;31mMemoryError\u001b[0m: "
     ]
    }
   ],
   "source": [
    "images_path = os.path.join(datadir, 'images/')\n",
    "\n",
    "# load training set\n",
    "images_path_train = os.path.join(images_path, 'train/')\n",
    "# print(len(os.listdir(images_path_train)))\n",
    "# X_train = [image_to_ndarray(os.path.join(images_path_train, filename)) for filename in os.listdir(images_path_train)]\n",
    "# print(len(X_train))"
   ]
  },
  {
   "cell_type": "code",
   "execution_count": 1,
   "metadata": {},
   "outputs": [
    {
     "ename": "NameError",
     "evalue": "name 'join' is not defined",
     "output_type": "error",
     "traceback": [
      "\u001b[1;31m---------------------------------------------------------------------------\u001b[0m",
      "\u001b[1;31mNameError\u001b[0m                                 Traceback (most recent call last)",
      "\u001b[1;32m<ipython-input-1-6140525d3987>\u001b[0m in \u001b[0;36m<module>\u001b[1;34m()\u001b[0m\n\u001b[0;32m     77\u001b[0m \u001b[1;31m# Test the data generator\u001b[0m\u001b[1;33m\u001b[0m\u001b[1;33m\u001b[0m\u001b[0m\n\u001b[0;32m     78\u001b[0m training_gen = PatchGenerator(\n\u001b[1;32m---> 79\u001b[1;33m     \u001b[0minput_dir\u001b[0m\u001b[1;33m=\u001b[0m\u001b[0mjoin\u001b[0m\u001b[1;33m(\u001b[0m\u001b[0mdata_dir\u001b[0m\u001b[1;33m,\u001b[0m \u001b[1;34m'training'\u001b[0m\u001b[1;33m,\u001b[0m \u001b[1;34m'*'\u001b[0m\u001b[1;33m)\u001b[0m\u001b[1;33m,\u001b[0m\u001b[1;33m\u001b[0m\u001b[0m\n\u001b[0m\u001b[0;32m     80\u001b[0m     \u001b[0mcsv_path\u001b[0m\u001b[1;33m=\u001b[0m\u001b[0mjoin\u001b[0m\u001b[1;33m(\u001b[0m\u001b[0mresult_dir\u001b[0m\u001b[1;33m,\u001b[0m \u001b[1;34m'training_data.csv'\u001b[0m\u001b[1;33m)\u001b[0m\u001b[1;33m,\u001b[0m\u001b[1;33m\u001b[0m\u001b[0m\n\u001b[0;32m     81\u001b[0m     \u001b[0mbatch_size\u001b[0m\u001b[1;33m=\u001b[0m\u001b[1;36m32\u001b[0m\u001b[1;33m\u001b[0m\u001b[0m\n",
      "\u001b[1;31mNameError\u001b[0m: name 'join' is not defined"
     ]
    }
   ],
   "source": [
    "class PatchGenerator(object):\n",
    "\n",
    "    def __init__(self, input_dir, csv_path, batch_size, augmentation_fn=None):\n",
    "\n",
    "        # Params\n",
    "        self.input_dir = input_dir  # path to patches in glob format\n",
    "        self.csv_path = csv_path  # path to CSV with data split\n",
    "        self.batch_size = batch_size  # number of patches per batch\n",
    "        self.augmentation_fn = augmentation_fn  # augmentation function\n",
    "        \n",
    "        # Read CSV\n",
    "        self.df = pd.DataFrame.from_csv(csv_path)\n",
    "        \n",
    "        # Info\n",
    "        self.n_samples = len(self.df)\n",
    "        self.n_batches = self.n_samples // self.batch_size\n",
    "        \n",
    "        # Print some info\n",
    "        print('PatchGenerator detected: {n_samples} patch samples.'.format(n_samples=self.n_samples))\n",
    "\n",
    "    def __iter__(self):\n",
    "        return self\n",
    "\n",
    "    def __next__(self):\n",
    "        return self.next()\n",
    "\n",
    "    def __len__(self):\n",
    "        # Provide length in number of batches\n",
    "        return self.n_batches\n",
    "\n",
    "    def next(self):\n",
    "        # Build a mini-batch\n",
    "\n",
    "        # Randomly sample positive samples from the dataframe \n",
    "        # Tip: self.df.loc[self.df['label'] == 1, :].sample(...)\n",
    "        df_positives = None\n",
    "        \n",
    "        # Randomly sample negative samples from the dataframe\n",
    "        df_negatives = None\n",
    "        \n",
    "        # Concatenate positive and negative sample dataframes\n",
    "        df_batch = pd.concat([df_positives, df_negatives])\n",
    "\n",
    "        # Iterate over selected images \n",
    "        images = []\n",
    "        labels = []\n",
    "        for index, row in df_batch.iterrows():\n",
    "            \n",
    "            try:\n",
    "\n",
    "                # Read image path\n",
    "                image_path = glob(join(self.input_dir, row['file_id']))\n",
    "                assert len(image_path) == 1\n",
    "                image_path = image_path[0]\n",
    "\n",
    "                # Read data and label\n",
    "                image = None\n",
    "                label = row['label']\n",
    "\n",
    "                # Data augmentation\n",
    "                if self.augmentation_fn:\n",
    "                    image = self.augmentation_fn(image)\n",
    "\n",
    "                # Append\n",
    "                images.append(image)\n",
    "                labels.append((1-label, label))\n",
    "                \n",
    "            except Exception as e:\n",
    "                print('Failed reading idx {idx}...'.format(idx=index))\n",
    "\n",
    "        # Assemble batch            \n",
    "        batch_x = np.stack(images).astype('float32')\n",
    "        batch_y = np.stack(labels).astype('float32')\n",
    "\n",
    "        return batch_x, batch_y\n",
    "    \n",
    "# Test the data generator\n",
    "training_gen = PatchGenerator(\n",
    "    input_dir=join(data_dir, 'training', '*'), \n",
    "    csv_path=join(result_dir, 'training_data.csv'), \n",
    "    batch_size=32\n",
    ")\n",
    "\n",
    "for batch_x, batch_y in training_gen:\n",
    "    print(batch_x.shape)\n",
    "    print(batch_y.shape)\n",
    "    plot_image(batch_x, images_per_row=8)\n",
    "    break"
   ]
  },
  {
   "cell_type": "code",
   "execution_count": null,
   "metadata": {
    "collapsed": true
   },
   "outputs": [],
   "source": [
    "\n",
    "class PatchSequence(keras.utils.Sequence):\n",
    "\n",
    "    def __init__(self, input_dir, csv_path, batch_size):\n",
    "\n",
    "        # Params\n",
    "        self.input_dir = input_dir  # path to patches in glob format\n",
    "        self.csv_path = csv_path  # path to CSV with data split\n",
    "        self.batch_size = batch_size  # number of patches per batch\n",
    "        \n",
    "        # Read CSV\n",
    "        self.df = pd.DataFrame.from_csv(csv_path)\n",
    "        \n",
    "        # Length\n",
    "        self.n_samples = len(self.df)\n",
    "        self.n_batches = int(np.ceil(self.n_samples / self.batch_size))  # last mini-batch might be shorter\n",
    "        \n",
    "        # Print some info\n",
    "        print('PatchSequence detected: {n_samples} patch samples.'.format(n_samples=len(self.df)))\n",
    "\n",
    "    def __len__(self):\n",
    "        # Provide length in number of batches\n",
    "        return self.n_batches\n",
    "    \n",
    "    def get_all_labels(self):\n",
    "        return self.df.loc[:, 'label'].values\n",
    "    \n",
    "    def __getitem__(self, idx):\n",
    "        # idx indexes batches, not samples\n",
    "\n",
    "        # Provide batches of samples\n",
    "        images = []\n",
    "        labels = []\n",
    "        \n",
    "        # Create indexes for samples\n",
    "        idx1 = idx * self.batch_size\n",
    "        idx2 = np.min([idx1 + self.batch_size, self.n_samples])\n",
    "        idxs = np.arange(idx1, idx2)\n",
    "        \n",
    "        # Iterate over samples\n",
    "        for i in idxs:\n",
    "\n",
    "            try:\n",
    "                # Read image path\n",
    "                row = self.df.iloc[i, :]\n",
    "                image_path = None\n",
    "\n",
    "                # Read data and label\n",
    "                image = None\n",
    "                label = None \n",
    "\n",
    "                # Append\n",
    "                images.append(image)\n",
    "                labels.append((1-label, label))\n",
    "                \n",
    "            except Exception as e:\n",
    "                print('Failed reading idx {idx}...'.format(idx=i))\n",
    "\n",
    "        # Assemble batch            \n",
    "        batch_x = np.stack(images).astype('float32')\n",
    "        batch_y = np.stack(labels).astype('float32')\n",
    "\n",
    "        return batch_x, batch_y\n",
    "\n",
    "# Test the sequence\n",
    "validation_seq = PatchSequence(\n",
    "    input_dir=join(data_dir, 'training', '*'), \n",
    "    csv_path=join(result_dir, 'validation_data.csv'), \n",
    "    batch_size=32\n",
    ")\n",
    "\n",
    "for batch_x, batch_y in validation_seq:\n",
    "    print(batch_x.shape)\n",
    "    print(batch_y.shape)\n",
    "    plot_image(batch_x, images_per_row=8)\n",
    "    break"
   ]
  }
 ],
 "metadata": {
  "kernelspec": {
   "display_name": "tensorflow",
   "language": "python",
   "name": "tensorflow"
  },
  "language_info": {
   "codemirror_mode": {
    "name": "ipython",
    "version": 3
   },
   "file_extension": ".py",
   "mimetype": "text/x-python",
   "name": "python",
   "nbconvert_exporter": "python",
   "pygments_lexer": "ipython3",
   "version": "3.5.4"
  }
 },
 "nbformat": 4,
 "nbformat_minor": 2
}

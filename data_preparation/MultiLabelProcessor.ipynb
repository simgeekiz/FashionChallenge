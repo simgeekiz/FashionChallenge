{
 "cells": [
  {
   "cell_type": "markdown",
   "metadata": {
    "_cell_guid": "f9084c68-3142-429e-8519-935cafd9977c",
    "_uuid": "112effedc14757145e92b1b2d9e0ab8da424ab4b"
   },
   "source": [
    "# MultiLabelProcessor\n",
    "\n",
    "This Notebook is used to convert the labels provided in JSON files to numpy arrays and store them on a local disk.\n",
    "\n",
    "How to use this Notebook:\n",
    "1. Check the data variables in cell 2. Make sure those folders exist and you have your downloaded files in there.\n",
    "2. Run the whole Notebook **once** - it stores the generated arrays on your local disk.\n",
    "3. Import the following functions from `./multilabel_functions.py` in your Python module or Jupyter Notebook:\n",
    " * `get_multilabels_train()`\n",
    " * `get_multilabels_validation`()\n",
    " \n",
    "    Those return the labels in the correct format.\n",
    "    \n",
    "In developing this Notebook I have used https://www.kaggle.com/anqitu/for-starter-json-to-multilabel-in-24-seconds/notebook."
   ]
  },
  {
   "cell_type": "code",
   "execution_count": 1,
   "metadata": {
    "_cell_guid": "b1076dfc-b9ad-4769-8c92-a6c4dae69d19",
    "_uuid": "8f2839f25d086af736a60e9eeb907d3b93b6e0e5",
    "collapsed": true
   },
   "outputs": [],
   "source": [
    "import pandas as pd\n",
    "import numpy as np\n",
    "import json\n",
    "import os\n",
    "\n",
    "pd.set_option('display.max_rows', 600)\n",
    "pd.set_option('display.max_columns', 50)\n",
    "import warnings\n",
    "warnings.filterwarnings('ignore')"
   ]
  },
  {
   "cell_type": "code",
   "execution_count": 2,
   "metadata": {
    "collapsed": true,
    "scrolled": true
   },
   "outputs": [],
   "source": [
    "datadir = os.getcwd()\n",
    "input_path = os.path.join(datadir, '../Fashion/data/json/')\n",
    "output_path = os.path.join(datadir, '../Fashion/data/multilabels/')"
   ]
  },
  {
   "cell_type": "markdown",
   "metadata": {
    "_cell_guid": "94b674db-985b-47c2-8f7c-1dd967bd5bc8",
    "_uuid": "6bafc7c62e102e1701057562fe408fa9b97193fe"
   },
   "source": [
    "## 1. Load data from json"
   ]
  },
  {
   "cell_type": "code",
   "execution_count": 3,
   "metadata": {
    "_cell_guid": "79c7e3d0-c299-4dcb-8224-4455121ee9b0",
    "_uuid": "d629ff2d2480ee46fbb7e2d37f6b5fab8052498a"
   },
   "outputs": [
    {
     "name": "stdout",
     "output_type": "stream",
     "text": [
      "Train No. of images: 1014544\n",
      "Test No. of images: 39706\n",
      "Validation No. of images: 9897\n"
     ]
    }
   ],
   "source": [
    "train={}\n",
    "test={}\n",
    "validation={}\n",
    "with open(os.path.join(input_path, 'train.json')) as json_data:\n",
    "    train= json.load(json_data)\n",
    "with open(os.path.join(input_path, 'test.json')) as json_data:\n",
    "    test= json.load(json_data)\n",
    "with open(os.path.join(input_path, 'validation.json')) as json_data:\n",
    "    validation = json.load(json_data)\n",
    "\n",
    "print('Train No. of images: %d'%(len(train['images'])))\n",
    "print('Test No. of images: %d'%(len(test['images'])))\n",
    "print('Validation No. of images: %d'%(len(validation['images'])))\n",
    "\n",
    "# JSON TO PANDAS DATAFRAME\n",
    "# train data\n",
    "train_img_url=train['images']\n",
    "train_img_url=pd.DataFrame(train_img_url)\n",
    "train_ann=train['annotations']\n",
    "train_ann=pd.DataFrame(train_ann)\n",
    "train=pd.merge(train_img_url, train_ann, on='imageId', how='inner')\n",
    "\n",
    "# test data\n",
    "test=pd.DataFrame(test['images'])\n",
    "\n",
    "# Validation Data\n",
    "val_img_url=validation['images']\n",
    "val_img_url=pd.DataFrame(val_img_url)\n",
    "val_ann=validation['annotations']\n",
    "val_ann=pd.DataFrame(val_ann)\n",
    "validation=pd.merge(val_img_url, val_ann, on='imageId', how='inner')\n",
    "\n",
    "datas = {'Train': train, 'Test': test, 'Validation': validation}\n",
    "for data in datas.values():\n",
    "    data['imageId'] = data['imageId'].astype(np.uint32)"
   ]
  },
  {
   "cell_type": "code",
   "execution_count": 4,
   "metadata": {
    "_cell_guid": "adb47a83-4e06-4dff-bebb-5759b5f1d02c",
    "_uuid": "e4f6b5eade9f0cf820539241a694ac6216bc29ec"
   },
   "outputs": [
    {
     "data": {
      "text/html": [
       "<div>\n",
       "<style>\n",
       "    .dataframe thead tr:only-child th {\n",
       "        text-align: right;\n",
       "    }\n",
       "\n",
       "    .dataframe thead th {\n",
       "        text-align: left;\n",
       "    }\n",
       "\n",
       "    .dataframe tbody tr th {\n",
       "        vertical-align: top;\n",
       "    }\n",
       "</style>\n",
       "<table border=\"1\" class=\"dataframe\">\n",
       "  <thead>\n",
       "    <tr style=\"text-align: right;\">\n",
       "      <th></th>\n",
       "      <th>imageId</th>\n",
       "      <th>url</th>\n",
       "      <th>labelId</th>\n",
       "    </tr>\n",
       "  </thead>\n",
       "  <tbody>\n",
       "    <tr>\n",
       "      <th>0</th>\n",
       "      <td>1</td>\n",
       "      <td>https://contestimg.wish.com/api/webimage/570f3...</td>\n",
       "      <td>[95, 66, 137, 70, 20]</td>\n",
       "    </tr>\n",
       "    <tr>\n",
       "      <th>1</th>\n",
       "      <td>2</td>\n",
       "      <td>https://contestimg.wish.com/api/webimage/5468f...</td>\n",
       "      <td>[36, 66, 44, 214, 105, 133]</td>\n",
       "    </tr>\n",
       "    <tr>\n",
       "      <th>2</th>\n",
       "      <td>3</td>\n",
       "      <td>https://contestimg.wish.com/api/webimage/54641...</td>\n",
       "      <td>[170, 66, 97, 153, 105, 138]</td>\n",
       "    </tr>\n",
       "    <tr>\n",
       "      <th>3</th>\n",
       "      <td>4</td>\n",
       "      <td>https://contestimg.wish.com/api/webimage/550b9...</td>\n",
       "      <td>[18, 66, 44, 153, 164]</td>\n",
       "    </tr>\n",
       "    <tr>\n",
       "      <th>4</th>\n",
       "      <td>5</td>\n",
       "      <td>https://contestimg.wish.com/api/webimage/54451...</td>\n",
       "      <td>[189, 66, 176, 137, 153, 74, 181, 171, 138]</td>\n",
       "    </tr>\n",
       "  </tbody>\n",
       "</table>\n",
       "</div>"
      ],
      "text/plain": [
       "   imageId                                                url  \\\n",
       "0        1  https://contestimg.wish.com/api/webimage/570f3...   \n",
       "1        2  https://contestimg.wish.com/api/webimage/5468f...   \n",
       "2        3  https://contestimg.wish.com/api/webimage/54641...   \n",
       "3        4  https://contestimg.wish.com/api/webimage/550b9...   \n",
       "4        5  https://contestimg.wish.com/api/webimage/54451...   \n",
       "\n",
       "                                       labelId  \n",
       "0                        [95, 66, 137, 70, 20]  \n",
       "1                  [36, 66, 44, 214, 105, 133]  \n",
       "2                 [170, 66, 97, 153, 105, 138]  \n",
       "3                       [18, 66, 44, 153, 164]  \n",
       "4  [189, 66, 176, 137, 153, 74, 181, 171, 138]  "
      ]
     },
     "execution_count": 4,
     "metadata": {},
     "output_type": "execute_result"
    }
   ],
   "source": [
    "train.head()"
   ]
  },
  {
   "cell_type": "code",
   "execution_count": 5,
   "metadata": {
    "_cell_guid": "c8d6cfd0-2180-4442-9ef9-9c392c5b2b10",
    "_uuid": "68f6c10c2fe2e41c2c304a2998d7fcebcf66d6ad"
   },
   "outputs": [
    {
     "data": {
      "text/html": [
       "<div>\n",
       "<style>\n",
       "    .dataframe thead tr:only-child th {\n",
       "        text-align: right;\n",
       "    }\n",
       "\n",
       "    .dataframe thead th {\n",
       "        text-align: left;\n",
       "    }\n",
       "\n",
       "    .dataframe tbody tr th {\n",
       "        vertical-align: top;\n",
       "    }\n",
       "</style>\n",
       "<table border=\"1\" class=\"dataframe\">\n",
       "  <thead>\n",
       "    <tr style=\"text-align: right;\">\n",
       "      <th></th>\n",
       "      <th>imageId</th>\n",
       "      <th>url</th>\n",
       "      <th>labelId</th>\n",
       "    </tr>\n",
       "  </thead>\n",
       "  <tbody>\n",
       "    <tr>\n",
       "      <th>0</th>\n",
       "      <td>1</td>\n",
       "      <td>https://contestimg.wish.com/api/webimage/568e1...</td>\n",
       "      <td>[62, 17, 66, 214, 105, 137, 85]</td>\n",
       "    </tr>\n",
       "    <tr>\n",
       "      <th>1</th>\n",
       "      <td>2</td>\n",
       "      <td>https://contestimg.wish.com/api/webimage/5452f...</td>\n",
       "      <td>[95, 17, 66, 214, 164, 137, 20, 204, 184]</td>\n",
       "    </tr>\n",
       "    <tr>\n",
       "      <th>2</th>\n",
       "      <td>3</td>\n",
       "      <td>https://contestimg.wish.com/api/webimage/54058...</td>\n",
       "      <td>[122, 19, 66, 186, 180, 44, 154, 20]</td>\n",
       "    </tr>\n",
       "    <tr>\n",
       "      <th>3</th>\n",
       "      <td>4</td>\n",
       "      <td>https://contestimg.wish.com/api/webimage/540c6...</td>\n",
       "      <td>[190, 222, 66, 153, 164, 226, 53, 184]</td>\n",
       "    </tr>\n",
       "    <tr>\n",
       "      <th>4</th>\n",
       "      <td>5</td>\n",
       "      <td>https://contestimg.wish.com/api/webimage/54477...</td>\n",
       "      <td>[62, 66, 153, 171, 111, 137, 70, 204, 184]</td>\n",
       "    </tr>\n",
       "  </tbody>\n",
       "</table>\n",
       "</div>"
      ],
      "text/plain": [
       "   imageId                                                url  \\\n",
       "0        1  https://contestimg.wish.com/api/webimage/568e1...   \n",
       "1        2  https://contestimg.wish.com/api/webimage/5452f...   \n",
       "2        3  https://contestimg.wish.com/api/webimage/54058...   \n",
       "3        4  https://contestimg.wish.com/api/webimage/540c6...   \n",
       "4        5  https://contestimg.wish.com/api/webimage/54477...   \n",
       "\n",
       "                                      labelId  \n",
       "0             [62, 17, 66, 214, 105, 137, 85]  \n",
       "1   [95, 17, 66, 214, 164, 137, 20, 204, 184]  \n",
       "2        [122, 19, 66, 186, 180, 44, 154, 20]  \n",
       "3      [190, 222, 66, 153, 164, 226, 53, 184]  \n",
       "4  [62, 66, 153, 171, 111, 137, 70, 204, 184]  "
      ]
     },
     "execution_count": 5,
     "metadata": {},
     "output_type": "execute_result"
    }
   ],
   "source": [
    "validation.head()"
   ]
  },
  {
   "cell_type": "code",
   "execution_count": 6,
   "metadata": {
    "_cell_guid": "ad491d1f-6800-4543-8ccc-b2ae36ef334c",
    "_uuid": "84731cda31f07eb7bfe1ca373777ad44cd62737d"
   },
   "outputs": [
    {
     "data": {
      "text/html": [
       "<div>\n",
       "<style>\n",
       "    .dataframe thead tr:only-child th {\n",
       "        text-align: right;\n",
       "    }\n",
       "\n",
       "    .dataframe thead th {\n",
       "        text-align: left;\n",
       "    }\n",
       "\n",
       "    .dataframe tbody tr th {\n",
       "        vertical-align: top;\n",
       "    }\n",
       "</style>\n",
       "<table border=\"1\" class=\"dataframe\">\n",
       "  <thead>\n",
       "    <tr style=\"text-align: right;\">\n",
       "      <th></th>\n",
       "      <th>imageId</th>\n",
       "      <th>url</th>\n",
       "    </tr>\n",
       "  </thead>\n",
       "  <tbody>\n",
       "    <tr>\n",
       "      <th>0</th>\n",
       "      <td>1</td>\n",
       "      <td>https://contestimg.wish.com/api/webimage/568e1...</td>\n",
       "    </tr>\n",
       "    <tr>\n",
       "      <th>1</th>\n",
       "      <td>2</td>\n",
       "      <td>https://contestimg.wish.com/api/webimage/5452f...</td>\n",
       "    </tr>\n",
       "    <tr>\n",
       "      <th>2</th>\n",
       "      <td>3</td>\n",
       "      <td>https://contestimg.wish.com/api/webimage/54058...</td>\n",
       "    </tr>\n",
       "    <tr>\n",
       "      <th>3</th>\n",
       "      <td>4</td>\n",
       "      <td>https://contestimg.wish.com/api/webimage/540c6...</td>\n",
       "    </tr>\n",
       "    <tr>\n",
       "      <th>4</th>\n",
       "      <td>5</td>\n",
       "      <td>https://contestimg.wish.com/api/webimage/54477...</td>\n",
       "    </tr>\n",
       "  </tbody>\n",
       "</table>\n",
       "</div>"
      ],
      "text/plain": [
       "   imageId                                                url\n",
       "0        1  https://contestimg.wish.com/api/webimage/568e1...\n",
       "1        2  https://contestimg.wish.com/api/webimage/5452f...\n",
       "2        3  https://contestimg.wish.com/api/webimage/54058...\n",
       "3        4  https://contestimg.wish.com/api/webimage/540c6...\n",
       "4        5  https://contestimg.wish.com/api/webimage/54477..."
      ]
     },
     "execution_count": 6,
     "metadata": {},
     "output_type": "execute_result"
    }
   ],
   "source": [
    "test.head()"
   ]
  },
  {
   "cell_type": "markdown",
   "metadata": {
    "_cell_guid": "56a9daec-f32a-4d80-80dd-d8503dea9e56",
    "_uuid": "5ddabd3529e0a99cef281648834dc13be92d20e8"
   },
   "source": [
    "## 2. MultiLabelBinarizer\n",
    "As the labelId is a list, we need to convert them to single label in a matrix to feed out classifiers."
   ]
  },
  {
   "cell_type": "code",
   "execution_count": null,
   "metadata": {
    "_cell_guid": "50a2cfa2-2168-435d-8c40-a43d792eb3dd",
    "_uuid": "1e3fec75e89367da37c5c3cd1d8f3b854f7a5e77"
   },
   "outputs": [
    {
     "name": "stdout",
     "output_type": "stream",
     "text": [
      "(9897, 228)\n",
      "(1014544, 228)\n",
      "(39706, 2)\n"
     ]
    }
   ],
   "source": [
    "from sklearn.preprocessing import MultiLabelBinarizer\n",
    "mlb = MultiLabelBinarizer()\n",
    "train_label = mlb.fit_transform(train['labelId'])\n",
    "validation_label = mlb.transform(validation['labelId'])\n",
    "\n",
    "for data in [validation_label, train_label, test]:\n",
    "    print(data.shape)"
   ]
  },
  {
   "cell_type": "code",
   "execution_count": null,
   "metadata": {
    "_cell_guid": "9f5ba397-f677-4d6b-a2be-75a2b077099a",
    "_uuid": "b80425c2a44e29c31eb0a850c7b39bc9101587fb",
    "collapsed": true
   },
   "outputs": [],
   "source": [
    "# Save as numpy\n",
    "train_multilabel_filename = 'multilabel_train.npy'\n",
    "validation_multilabel_filename = 'multilabel_validation.npy'\n",
    "\n",
    "np.save(os.path.join(output_path, train_multilabel_filename), train_label)\n",
    "np.save(os.path.join(output_path, validation_multilabel_filename), validation_label)"
   ]
  }
 ],
 "metadata": {
  "kernelspec": {
   "display_name": "Python 3",
   "language": "python",
   "name": "python3"
  },
  "language_info": {
   "codemirror_mode": {
    "name": "ipython",
    "version": 3
   },
   "file_extension": ".py",
   "mimetype": "text/x-python",
   "name": "python",
   "nbconvert_exporter": "python",
   "pygments_lexer": "ipython3",
   "version": "3.6.3"
  }
 },
 "nbformat": 4,
 "nbformat_minor": 1
}

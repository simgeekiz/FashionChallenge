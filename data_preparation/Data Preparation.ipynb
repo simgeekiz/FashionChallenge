{
 "cells": [
  {
   "cell_type": "markdown",
   "metadata": {},
   "source": [
    "# Data Preparation"
   ]
  },
  {
   "cell_type": "code",
   "execution_count": 1,
   "metadata": {},
   "outputs": [
    {
     "name": "stderr",
     "output_type": "stream",
     "text": [
      "C:\\Users\\miche\\Anaconda3\\envs\\tensorflow\\lib\\site-packages\\h5py\\__init__.py:36: FutureWarning: Conversion of the second argument of issubdtype from `float` to `np.floating` is deprecated. In future, it will be treated as `np.float64 == np.dtype(float).type`.\n",
      "  from ._conv import register_converters as _register_converters\n",
      "Using TensorFlow backend.\n"
     ]
    }
   ],
   "source": [
    "from os.path import join\n",
    "from os import listdir\n",
    "import tqdm\n",
    "\n",
    "import pandas as pd\n",
    "import numpy as np\n",
    "import matplotlib as plt\n",
    "\n",
    "from batch_generator import BatchGenerator, BatchSequence"
   ]
  },
  {
   "cell_type": "code",
   "execution_count": 2,
   "metadata": {
    "collapsed": true
   },
   "outputs": [],
   "source": [
    "datadir = 'D:\\\\Documenten\\\\Radboud University\\\\2017-2018\\\\Semester 2\\\\Computing Science\\\\Machine Learning in Practice\\\\Fashion\\\\data\\\\'\n",
    "images_path = join(datadir, 'images/')\n",
    "images_path_train = join(images_path, 'train/')\n",
    "images_path_validation = join(images_path, 'validation/')"
   ]
  },
  {
   "cell_type": "markdown",
   "metadata": {},
   "source": [
    "### Loading data"
   ]
  },
  {
   "cell_type": "code",
   "execution_count": 3,
   "metadata": {
    "collapsed": true
   },
   "outputs": [],
   "source": [
    "annotation_path = join(datadir, 'multilabels/')\n",
    "\n",
    "# loading labels\n",
    "y_train = np.load(join(annotation_path, 'multilabel_train.npy'))\n",
    "y_validation = np.load(join(annotation_path, 'multilabel_validation.npy'))"
   ]
  },
  {
   "cell_type": "code",
   "execution_count": 4,
   "metadata": {},
   "outputs": [
    {
     "name": "stdout",
     "output_type": "stream",
     "text": [
      "(32,)\n",
      "(32, 228)\n"
     ]
    }
   ],
   "source": [
    "# testing the generator\n",
    "training_gen = BatchGenerator(\n",
    "    input_dir=images_path_train,\n",
    "    y=y_train, \n",
    "    batch_size=32\n",
    ")\n",
    "\n",
    "for batch_x, batch_y in training_gen:\n",
    "    print(batch_x.shape)\n",
    "    print(batch_y.shape)\n",
    "    break"
   ]
  },
  {
   "cell_type": "code",
   "execution_count": 5,
   "metadata": {},
   "outputs": [
    {
     "name": "stdout",
     "output_type": "stream",
     "text": [
      "(32,)\n",
      "(32, 228)\n"
     ]
    }
   ],
   "source": [
    "# Test the sequence\n",
    "validation_seq = BatchSequence(\n",
    "    input_dir=images_path_validation, \n",
    "    y=y_validation,\n",
    "    batch_size=32\n",
    ")\n",
    "\n",
    "for batch_x, batch_y in validation_seq:\n",
    "    print(batch_x.shape)\n",
    "    print(batch_y.shape)\n",
    "    break"
   ]
  }
 ],
 "metadata": {
  "kernelspec": {
   "display_name": "tensorflow",
   "language": "python",
   "name": "tensorflow"
  },
  "language_info": {
   "codemirror_mode": {
    "name": "ipython",
    "version": 3
   },
   "file_extension": ".py",
   "mimetype": "text/x-python",
   "name": "python",
   "nbconvert_exporter": "python",
   "pygments_lexer": "ipython3",
   "version": "3.5.4"
  }
 },
 "nbformat": 4,
 "nbformat_minor": 2
}
